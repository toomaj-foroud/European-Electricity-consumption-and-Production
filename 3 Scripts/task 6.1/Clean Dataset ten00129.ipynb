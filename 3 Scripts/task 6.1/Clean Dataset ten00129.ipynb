{
 "cells": [
  {
   "cell_type": "markdown",
   "id": "9636cedd",
   "metadata": {},
   "source": [
    "# Load libraries and data sets"
   ]
  },
  {
   "cell_type": "code",
   "execution_count": 18,
   "id": "bfd80263",
   "metadata": {},
   "outputs": [],
   "source": [
    "# Load libraries\n",
    "import pandas as pd\n",
    "import numpy as np\n",
    "import os\n",
    "import matplotlib.pyplot as plt"
   ]
  },
  {
   "cell_type": "code",
   "execution_count": 19,
   "id": "19a023b5",
   "metadata": {},
   "outputs": [
    {
     "data": {
      "text/html": [
       "<div>\n",
       "<style scoped>\n",
       "    .dataframe tbody tr th:only-of-type {\n",
       "        vertical-align: middle;\n",
       "    }\n",
       "\n",
       "    .dataframe tbody tr th {\n",
       "        vertical-align: top;\n",
       "    }\n",
       "\n",
       "    .dataframe thead th {\n",
       "        text-align: right;\n",
       "    }\n",
       "</style>\n",
       "<table border=\"1\" class=\"dataframe\">\n",
       "  <thead>\n",
       "    <tr style=\"text-align: right;\">\n",
       "      <th></th>\n",
       "      <th>DATAFLOW</th>\n",
       "      <th>LAST UPDATE</th>\n",
       "      <th>freq</th>\n",
       "      <th>nrg_bal</th>\n",
       "      <th>siec</th>\n",
       "      <th>unit</th>\n",
       "      <th>geo</th>\n",
       "      <th>TIME_PERIOD</th>\n",
       "      <th>OBS_VALUE</th>\n",
       "      <th>OBS_FLAG</th>\n",
       "    </tr>\n",
       "  </thead>\n",
       "  <tbody>\n",
       "    <tr>\n",
       "      <th>0</th>\n",
       "      <td>ESTAT:TEN00129(1.0)</td>\n",
       "      <td>14/04/22 11:00:00</td>\n",
       "      <td>A</td>\n",
       "      <td>FC_IND_E</td>\n",
       "      <td>C0000X0350-0370</td>\n",
       "      <td>KTOE</td>\n",
       "      <td>AL</td>\n",
       "      <td>2009</td>\n",
       "      <td>98.149</td>\n",
       "      <td>NaN</td>\n",
       "    </tr>\n",
       "    <tr>\n",
       "      <th>1</th>\n",
       "      <td>ESTAT:TEN00129(1.0)</td>\n",
       "      <td>14/04/22 11:00:00</td>\n",
       "      <td>A</td>\n",
       "      <td>FC_IND_E</td>\n",
       "      <td>C0000X0350-0370</td>\n",
       "      <td>KTOE</td>\n",
       "      <td>AL</td>\n",
       "      <td>2010</td>\n",
       "      <td>108.549</td>\n",
       "      <td>NaN</td>\n",
       "    </tr>\n",
       "    <tr>\n",
       "      <th>2</th>\n",
       "      <td>ESTAT:TEN00129(1.0)</td>\n",
       "      <td>14/04/22 11:00:00</td>\n",
       "      <td>A</td>\n",
       "      <td>FC_IND_E</td>\n",
       "      <td>C0000X0350-0370</td>\n",
       "      <td>KTOE</td>\n",
       "      <td>AL</td>\n",
       "      <td>2011</td>\n",
       "      <td>137.799</td>\n",
       "      <td>NaN</td>\n",
       "    </tr>\n",
       "    <tr>\n",
       "      <th>3</th>\n",
       "      <td>ESTAT:TEN00129(1.0)</td>\n",
       "      <td>14/04/22 11:00:00</td>\n",
       "      <td>A</td>\n",
       "      <td>FC_IND_E</td>\n",
       "      <td>C0000X0350-0370</td>\n",
       "      <td>KTOE</td>\n",
       "      <td>AL</td>\n",
       "      <td>2012</td>\n",
       "      <td>76.049</td>\n",
       "      <td>NaN</td>\n",
       "    </tr>\n",
       "    <tr>\n",
       "      <th>4</th>\n",
       "      <td>ESTAT:TEN00129(1.0)</td>\n",
       "      <td>14/04/22 11:00:00</td>\n",
       "      <td>A</td>\n",
       "      <td>FC_IND_E</td>\n",
       "      <td>C0000X0350-0370</td>\n",
       "      <td>KTOE</td>\n",
       "      <td>AL</td>\n",
       "      <td>2013</td>\n",
       "      <td>63.050</td>\n",
       "      <td>NaN</td>\n",
       "    </tr>\n",
       "  </tbody>\n",
       "</table>\n",
       "</div>"
      ],
      "text/plain": [
       "              DATAFLOW        LAST UPDATE freq   nrg_bal             siec  \\\n",
       "0  ESTAT:TEN00129(1.0)  14/04/22 11:00:00    A  FC_IND_E  C0000X0350-0370   \n",
       "1  ESTAT:TEN00129(1.0)  14/04/22 11:00:00    A  FC_IND_E  C0000X0350-0370   \n",
       "2  ESTAT:TEN00129(1.0)  14/04/22 11:00:00    A  FC_IND_E  C0000X0350-0370   \n",
       "3  ESTAT:TEN00129(1.0)  14/04/22 11:00:00    A  FC_IND_E  C0000X0350-0370   \n",
       "4  ESTAT:TEN00129(1.0)  14/04/22 11:00:00    A  FC_IND_E  C0000X0350-0370   \n",
       "\n",
       "   unit geo  TIME_PERIOD  OBS_VALUE OBS_FLAG  \n",
       "0  KTOE  AL         2009     98.149      NaN  \n",
       "1  KTOE  AL         2010    108.549      NaN  \n",
       "2  KTOE  AL         2011    137.799      NaN  \n",
       "3  KTOE  AL         2012     76.049      NaN  \n",
       "4  KTOE  AL         2013     63.050      NaN  "
      ]
     },
     "execution_count": 19,
     "metadata": {},
     "output_type": "execute_result"
    }
   ],
   "source": [
    "# Load data set \"energy consumption in household sector\"\n",
    "\n",
    "path = r'G:\\Career Foundery\\CFundry-6'\n",
    "consump_industry = pd.read_csv(os.path.join(path, '2 Data set', 'Original', 'ten00129_linear.csv','ten00129_linear.csv'), index_col=False)\n",
    "consump_industry.head()"
   ]
  },
  {
   "cell_type": "code",
   "execution_count": 20,
   "id": "546e3bd1",
   "metadata": {},
   "outputs": [],
   "source": [
    "# remove redundant columns\n",
    "consump_industry.drop(['DATAFLOW', 'LAST UPDATE', 'freq', 'OBS_FLAG', 'unit'], axis=1, inplace=True)"
   ]
  },
  {
   "cell_type": "code",
   "execution_count": 21,
   "id": "4d56d834",
   "metadata": {},
   "outputs": [],
   "source": [
    "# define the name of columns\n",
    "consump_industry.rename(columns={'geo': 'country-code', 'TIME_PERIOD': 'time-period', 'OBS_VALUE': 'value(KTOE)', 'nrg_bal': 'sector'}, inplace=True)"
   ]
  },
  {
   "cell_type": "code",
   "execution_count": 22,
   "id": "b3961a6c",
   "metadata": {},
   "outputs": [
    {
     "data": {
      "text/plain": [
       "45"
      ]
     },
     "execution_count": 22,
     "metadata": {},
     "output_type": "execute_result"
    }
   ],
   "source": [
    "# define the codes of countries and fuels\n",
    "country_codes = {'SK':'Slovakia', 'FI':'Finland', 'SE':'Sweden', 'IS':'Iceland','NO':'Norway', 'UK':'United Kingdom',\n",
    "                 'ME': 'Montenegro','MK':'North Macedonia', 'GE':'Georgia', 'EU27_2020':'European Union - 27 countries (from 2020)', \n",
    "                 'AL':'Albania', 'RS':'Serbia', 'TR':'Turkey', 'BA':'Bosnia and Herzegovina', 'MD':'Moldova', 'UA':'Ukraine',  \n",
    "                 'EA19':'Euro area - 19 countries (from 2015)', 'BE':'Belgium', 'BG':'Bulgaria', 'CZ':'Czechia', 'DK':'Denmark',\n",
    "                 'DE':'Germany', 'EE':'Estonia', 'IE':'Ireland', 'EL':'Greece', 'ES': 'Spain', 'FR':'France', 'HR':'Croatia',\n",
    "                 'IT':'Italy', 'CY':'Cyprus', 'LV':'Latvia', 'LT':'Lithuania', 'LU':'Luxembourg', 'HU':'Hungary', 'MT':'Malta',\n",
    "                 'NL':'Netherlands', 'AT':'Austria', 'PL':'Poland', 'PT':'Portugal', 'RO':'Romania', 'SI':'Slovenia',\n",
    "                 'EU28':'European Union - 28 countries (2013-2020)', 'LI':'Liechtenstein', 'CH':'Switzerland',\n",
    "                 'XK':'Kosovo'}\n",
    "len(country_codes)"
   ]
  },
  {
   "cell_type": "code",
   "execution_count": 23,
   "id": "d9b83114",
   "metadata": {},
   "outputs": [
    {
     "data": {
      "text/plain": [
       "12"
      ]
     },
     "execution_count": 23,
     "metadata": {},
     "output_type": "execute_result"
    }
   ],
   "source": [
    "# define the codes of fuels\n",
    "energy_codes = {'TOTAL':'Total', 'G3000':'Natural gas','E7000':'Electricity', 'C0000X0350-0370':'Solid fossil fuels',\n",
    "                'C0350-0370':'Manufactured gases', 'P1000':'Peat and peat products', 'S2000':'Oil shale and oil sands',\n",
    "                'O4000XBIO':'Oil and petroleum products (excluding biofuel portion)', 'RA000':'Renewables and biofuels',\n",
    "                'W6100_6220':'Non-renewable waste', 'N900H':'Nuclear heat', 'H8000':'Heat'}\n",
    "\n",
    "len(energy_codes)"
   ]
  },
  {
   "cell_type": "code",
   "execution_count": 24,
   "id": "a2d82a9c",
   "metadata": {},
   "outputs": [],
   "source": [
    "# define code of sectores\n",
    "sect_codes = {'FC_IND_E':'industry'}"
   ]
  },
  {
   "cell_type": "code",
   "execution_count": 25,
   "id": "4a7e877e",
   "metadata": {},
   "outputs": [],
   "source": [
    "# replace country abbreviations by full name\n",
    "consump_industry['country'] = list(map(country_codes.get, consump_industry['country-code'].tolist()))"
   ]
  },
  {
   "cell_type": "code",
   "execution_count": 26,
   "id": "c891d1cb",
   "metadata": {},
   "outputs": [],
   "source": [
    "# replace energy codes by complete name\n",
    "consump_industry['energy-type'] = list(map(energy_codes.get, consump_industry['siec'].tolist()))"
   ]
  },
  {
   "cell_type": "code",
   "execution_count": 27,
   "id": "e8c9ae30",
   "metadata": {},
   "outputs": [],
   "source": [
    "# replace sector abbreviations by full name\n",
    "consump_industry['sector'] = list(map(sect_codes.get, consump_industry['sector'].tolist()))"
   ]
  },
  {
   "cell_type": "code",
   "execution_count": 28,
   "id": "7cb14c74",
   "metadata": {},
   "outputs": [],
   "source": [
    "# remove columns: siec & country\n",
    "consump_industry.drop(['siec', 'country-code'], axis=1, inplace=True)"
   ]
  },
  {
   "cell_type": "code",
   "execution_count": 29,
   "id": "519acdaf",
   "metadata": {},
   "outputs": [
    {
     "data": {
      "text/html": [
       "<div>\n",
       "<style scoped>\n",
       "    .dataframe tbody tr th:only-of-type {\n",
       "        vertical-align: middle;\n",
       "    }\n",
       "\n",
       "    .dataframe tbody tr th {\n",
       "        vertical-align: top;\n",
       "    }\n",
       "\n",
       "    .dataframe thead th {\n",
       "        text-align: right;\n",
       "    }\n",
       "</style>\n",
       "<table border=\"1\" class=\"dataframe\">\n",
       "  <thead>\n",
       "    <tr style=\"text-align: right;\">\n",
       "      <th></th>\n",
       "      <th>country</th>\n",
       "      <th>time-period</th>\n",
       "      <th>sector</th>\n",
       "      <th>energy-type</th>\n",
       "      <th>value(KTOE)</th>\n",
       "    </tr>\n",
       "  </thead>\n",
       "  <tbody>\n",
       "    <tr>\n",
       "      <th>0</th>\n",
       "      <td>Albania</td>\n",
       "      <td>2009</td>\n",
       "      <td>industry</td>\n",
       "      <td>Solid fossil fuels</td>\n",
       "      <td>98.149</td>\n",
       "    </tr>\n",
       "    <tr>\n",
       "      <th>1</th>\n",
       "      <td>Albania</td>\n",
       "      <td>2010</td>\n",
       "      <td>industry</td>\n",
       "      <td>Solid fossil fuels</td>\n",
       "      <td>108.549</td>\n",
       "    </tr>\n",
       "    <tr>\n",
       "      <th>2</th>\n",
       "      <td>Albania</td>\n",
       "      <td>2011</td>\n",
       "      <td>industry</td>\n",
       "      <td>Solid fossil fuels</td>\n",
       "      <td>137.799</td>\n",
       "    </tr>\n",
       "    <tr>\n",
       "      <th>3</th>\n",
       "      <td>Albania</td>\n",
       "      <td>2012</td>\n",
       "      <td>industry</td>\n",
       "      <td>Solid fossil fuels</td>\n",
       "      <td>76.049</td>\n",
       "    </tr>\n",
       "    <tr>\n",
       "      <th>4</th>\n",
       "      <td>Albania</td>\n",
       "      <td>2013</td>\n",
       "      <td>industry</td>\n",
       "      <td>Solid fossil fuels</td>\n",
       "      <td>63.050</td>\n",
       "    </tr>\n",
       "  </tbody>\n",
       "</table>\n",
       "</div>"
      ],
      "text/plain": [
       "   country  time-period    sector         energy-type  value(KTOE)\n",
       "0  Albania         2009  industry  Solid fossil fuels       98.149\n",
       "1  Albania         2010  industry  Solid fossil fuels      108.549\n",
       "2  Albania         2011  industry  Solid fossil fuels      137.799\n",
       "3  Albania         2012  industry  Solid fossil fuels       76.049\n",
       "4  Albania         2013  industry  Solid fossil fuels       63.050"
      ]
     },
     "execution_count": 29,
     "metadata": {},
     "output_type": "execute_result"
    }
   ],
   "source": [
    "# put columns in order\n",
    "consump_industry = consump_industry[['country', 'time-period', 'sector','energy-type', 'value(KTOE)']]\n",
    "consump_industry.head()"
   ]
  },
  {
   "cell_type": "code",
   "execution_count": 30,
   "id": "9e26f885",
   "metadata": {},
   "outputs": [
    {
     "data": {
      "text/plain": [
       "(5892, 5)"
      ]
     },
     "execution_count": 30,
     "metadata": {},
     "output_type": "execute_result"
    }
   ],
   "source": [
    "# shape of the dataset\n",
    "consump_industry.shape"
   ]
  },
  {
   "cell_type": "code",
   "execution_count": 31,
   "id": "4c8ae917",
   "metadata": {},
   "outputs": [
    {
     "name": "stdout",
     "output_type": "stream",
     "text": [
      "<class 'pandas.core.frame.DataFrame'>\n",
      "RangeIndex: 5892 entries, 0 to 5891\n",
      "Data columns (total 5 columns):\n",
      " #   Column       Non-Null Count  Dtype  \n",
      "---  ------       --------------  -----  \n",
      " 0   country      5892 non-null   object \n",
      " 1   time-period  5892 non-null   int64  \n",
      " 2   sector       5892 non-null   object \n",
      " 3   energy-type  5892 non-null   object \n",
      " 4   value(KTOE)  5423 non-null   float64\n",
      "dtypes: float64(1), int64(1), object(3)\n",
      "memory usage: 230.3+ KB\n"
     ]
    }
   ],
   "source": [
    "# data type of attributes\n",
    "consump_industry.info()"
   ]
  },
  {
   "cell_type": "markdown",
   "id": "dfe098b3",
   "metadata": {},
   "source": [
    "### There is 469 null values in 'value(KTOE)'"
   ]
  },
  {
   "cell_type": "code",
   "execution_count": 33,
   "id": "cb6abc74",
   "metadata": {},
   "outputs": [
    {
     "name": "stdout",
     "output_type": "stream",
     "text": [
      "country doesn't contain mixed data types\n",
      "time-period doesn't contain mixed data types\n",
      "sector doesn't contain mixed data types\n",
      "energy-type doesn't contain mixed data types\n",
      "value(KTOE) doesn't contain mixed data types\n"
     ]
    }
   ],
   "source": [
    "# check for mixed data type in df_ords\n",
    "for col in consump_industry.columns.tolist():\n",
    "  weird = (consump_industry[[col]].applymap(type) != consump_industry[[col]].iloc[0].apply(type)).any(axis = 1)\n",
    "  if len (consump_industry[weird]) > 0:\n",
    "    print (col + ' contains mixed data types')\n",
    "  else:\n",
    "    print (col + ' doesn\\'t contain mixed data types')"
   ]
  },
  {
   "cell_type": "code",
   "execution_count": 34,
   "id": "e922595b",
   "metadata": {},
   "outputs": [
    {
     "data": {
      "text/html": [
       "<div>\n",
       "<style scoped>\n",
       "    .dataframe tbody tr th:only-of-type {\n",
       "        vertical-align: middle;\n",
       "    }\n",
       "\n",
       "    .dataframe tbody tr th {\n",
       "        vertical-align: top;\n",
       "    }\n",
       "\n",
       "    .dataframe thead th {\n",
       "        text-align: right;\n",
       "    }\n",
       "</style>\n",
       "<table border=\"1\" class=\"dataframe\">\n",
       "  <thead>\n",
       "    <tr style=\"text-align: right;\">\n",
       "      <th></th>\n",
       "      <th>time-period</th>\n",
       "      <th>value(KTOE)</th>\n",
       "    </tr>\n",
       "  </thead>\n",
       "  <tbody>\n",
       "    <tr>\n",
       "      <th>count</th>\n",
       "      <td>5892.000000</td>\n",
       "      <td>5423.000000</td>\n",
       "    </tr>\n",
       "    <tr>\n",
       "      <th>mean</th>\n",
       "      <td>2014.568228</td>\n",
       "      <td>3294.459093</td>\n",
       "    </tr>\n",
       "    <tr>\n",
       "      <th>std</th>\n",
       "      <td>3.431053</td>\n",
       "      <td>16266.630174</td>\n",
       "    </tr>\n",
       "    <tr>\n",
       "      <th>min</th>\n",
       "      <td>2009.000000</td>\n",
       "      <td>0.000000</td>\n",
       "    </tr>\n",
       "    <tr>\n",
       "      <th>25%</th>\n",
       "      <td>2012.000000</td>\n",
       "      <td>0.000000</td>\n",
       "    </tr>\n",
       "    <tr>\n",
       "      <th>50%</th>\n",
       "      <td>2015.000000</td>\n",
       "      <td>140.809000</td>\n",
       "    </tr>\n",
       "    <tr>\n",
       "      <th>75%</th>\n",
       "      <td>2018.000000</td>\n",
       "      <td>1022.037500</td>\n",
       "    </tr>\n",
       "    <tr>\n",
       "      <th>max</th>\n",
       "      <td>2020.000000</td>\n",
       "      <td>244695.806000</td>\n",
       "    </tr>\n",
       "  </tbody>\n",
       "</table>\n",
       "</div>"
      ],
      "text/plain": [
       "       time-period    value(KTOE)\n",
       "count  5892.000000    5423.000000\n",
       "mean   2014.568228    3294.459093\n",
       "std       3.431053   16266.630174\n",
       "min    2009.000000       0.000000\n",
       "25%    2012.000000       0.000000\n",
       "50%    2015.000000     140.809000\n",
       "75%    2018.000000    1022.037500\n",
       "max    2020.000000  244695.806000"
      ]
     },
     "execution_count": 34,
     "metadata": {},
     "output_type": "execute_result"
    }
   ],
   "source": [
    "# descriptive statisctics\n",
    "consump_industry.describe()"
   ]
  },
  {
   "cell_type": "markdown",
   "id": "afd5e8e2",
   "metadata": {},
   "source": [
    "### the data distribution for time period is ok as it is the annual data, but in value(KTOE) there are lots of outliers which seems to be rational as they are the summation values"
   ]
  },
  {
   "cell_type": "code",
   "execution_count": 35,
   "id": "33988117",
   "metadata": {},
   "outputs": [
    {
     "data": {
      "text/plain": [
       "<AxesSubplot:ylabel='Frequency'>"
      ]
     },
     "execution_count": 35,
     "metadata": {},
     "output_type": "execute_result"
    },
    {
     "data": {
      "image/png": "[encoded data removed]",
      "text/plain": [
       "<Figure size 432x288 with 1 Axes>"
      ]
     },
     "metadata": {
      "needs_background": "light"
     },
     "output_type": "display_data"
    }
   ],
   "source": [
    "# distribution of value(KTOE)\n",
    "consump_industry['value(KTOE)'].plot.hist(bins=100)"
   ]
  },
  {
   "cell_type": "markdown",
   "id": "6f84c0d9",
   "metadata": {},
   "source": [
    "### Like the other data sets here we have lots of '0' values which seems to be normal as there are lots of unmeasured data or lots of real zero measurements"
   ]
  },
  {
   "cell_type": "code",
   "execution_count": 36,
   "id": "d5a8cb6b",
   "metadata": {},
   "outputs": [
    {
     "data": {
      "text/plain": [
       "Albania                                      144\n",
       "Iceland                                      144\n",
       "Lithuania                                    144\n",
       "Luxembourg                                   144\n",
       "Latvia                                       144\n",
       "Montenegro                                   144\n",
       "North Macedonia                              144\n",
       "Malta                                        144\n",
       "Netherlands                                  144\n",
       "Norway                                       144\n",
       "Poland                                       144\n",
       "Portugal                                     144\n",
       "Romania                                      144\n",
       "Serbia                                       144\n",
       "Sweden                                       144\n",
       "Slovenia                                     144\n",
       "Slovakia                                     144\n",
       "Turkey                                       144\n",
       "Ukraine                                      144\n",
       "Austria                                      144\n",
       "Italy                                        144\n",
       "Ireland                                      144\n",
       "Greece                                       144\n",
       "Belgium                                      144\n",
       "Bulgaria                                     144\n",
       "Cyprus                                       144\n",
       "Czechia                                      144\n",
       "Germany                                      144\n",
       "Denmark                                      144\n",
       "Hungary                                      144\n",
       "Estonia                                      144\n",
       "Spain                                        144\n",
       "Finland                                      144\n",
       "France                                       144\n",
       "Croatia                                      144\n",
       "Kosovo                                       144\n",
       "Euro area - 19 countries (from 2015)         132\n",
       "European Union - 27 countries (from 2020)    132\n",
       "Moldova                                      132\n",
       "United Kingdom                               132\n",
       "Georgia                                       96\n",
       "Bosnia and Herzegovina                        84\n",
       "Name: country, dtype: int64"
      ]
     },
     "execution_count": 36,
     "metadata": {},
     "output_type": "execute_result"
    }
   ],
   "source": [
    "# value distribution for 'country'\n",
    "consump_industry['country'].value_counts()"
   ]
  },
  {
   "cell_type": "code",
   "execution_count": 37,
   "id": "7ff69abf",
   "metadata": {},
   "outputs": [
    {
     "data": {
      "text/plain": [
       "Solid fossil fuels                                        493\n",
       "Manufactured gases                                        493\n",
       "Electricity                                               493\n",
       "Natural gas                                               493\n",
       "Heat                                                      493\n",
       "Oil and petroleum products (excluding biofuel portion)    493\n",
       "Peat and peat products                                    493\n",
       "Renewables and biofuels                                   493\n",
       "Oil shale and oil sands                                   493\n",
       "Total                                                     493\n",
       "Non-renewable waste                                       493\n",
       "Nuclear heat                                              469\n",
       "Name: energy-type, dtype: int64"
      ]
     },
     "execution_count": 37,
     "metadata": {},
     "output_type": "execute_result"
    }
   ],
   "source": [
    "# data distribution for 'energy-type'\n",
    "consump_industry['energy-type'].value_counts()"
   ]
  },
  {
   "cell_type": "code",
   "execution_count": 38,
   "id": "c898efdf",
   "metadata": {},
   "outputs": [
    {
     "data": {
      "text/plain": [
       "industry    5892\n",
       "Name: sector, dtype: int64"
      ]
     },
     "execution_count": 38,
     "metadata": {},
     "output_type": "execute_result"
    }
   ],
   "source": [
    "# data distribution for sector\n",
    "consump_industry['sector'].value_counts()"
   ]
  },
  {
   "cell_type": "code",
   "execution_count": 39,
   "id": "748a398c",
   "metadata": {},
   "outputs": [
    {
     "data": {
      "text/plain": [
       "{'Albania',\n",
       " 'Austria',\n",
       " 'Belgium',\n",
       " 'Bosnia and Herzegovina',\n",
       " 'Bulgaria',\n",
       " 'Croatia',\n",
       " 'Cyprus',\n",
       " 'Czechia',\n",
       " 'Denmark',\n",
       " 'Estonia',\n",
       " 'Finland',\n",
       " 'France',\n",
       " 'Georgia',\n",
       " 'Germany',\n",
       " 'Greece',\n",
       " 'Hungary',\n",
       " 'Iceland',\n",
       " 'Ireland',\n",
       " 'Italy',\n",
       " 'Kosovo',\n",
       " 'Latvia',\n",
       " 'Lithuania',\n",
       " 'Luxembourg',\n",
       " 'Malta',\n",
       " 'Moldova',\n",
       " 'Montenegro',\n",
       " 'Netherlands',\n",
       " 'North Macedonia',\n",
       " 'Norway',\n",
       " 'Poland',\n",
       " 'Portugal',\n",
       " 'Romania',\n",
       " 'Serbia',\n",
       " 'Slovakia',\n",
       " 'Slovenia',\n",
       " 'Spain',\n",
       " 'Sweden',\n",
       " 'Turkey',\n",
       " 'Ukraine',\n",
       " 'United Kingdom'}"
      ]
     },
     "execution_count": 39,
     "metadata": {},
     "output_type": "execute_result"
    }
   ],
   "source": [
    "# remove rows related to 'EU27_2020' & 'EA19' & 'EA28' as they are summations for contries in EU and they are not helpful in our analysis\n",
    "consump_industry.drop(consump_industry[consump_industry['country'].isin(['European Union - 27 countries (from 2020)',\n",
    "            'Euro area - 19 countries (from 2015)', 'European Union - 28 countries (2013-2020)'])].index, inplace=True)\n",
    "set(consump_industry['country'])"
   ]
  },
  {
   "cell_type": "code",
   "execution_count": 40,
   "id": "669b7e39",
   "metadata": {},
   "outputs": [
    {
     "data": {
      "text/plain": [
       "country          0\n",
       "time-period      0\n",
       "sector           0\n",
       "energy-type      0\n",
       "value(KTOE)    469\n",
       "dtype: int64"
      ]
     },
     "execution_count": 40,
     "metadata": {},
     "output_type": "execute_result"
    }
   ],
   "source": [
    "# check for null values again\n",
    "consump_industry.isnull().sum()"
   ]
  },
  {
   "cell_type": "code",
   "execution_count": 41,
   "id": "904ada2e",
   "metadata": {},
   "outputs": [],
   "source": [
    "# to handle nulls we substitute them with zero\n",
    "consump_industry.loc[consump_industry['value(KTOE)'].isnull(),'value(KTOE)']=0"
   ]
  },
  {
   "cell_type": "code",
   "execution_count": 42,
   "id": "1719fc0c",
   "metadata": {},
   "outputs": [
    {
     "data": {
      "text/html": [
       "<div>\n",
       "<style scoped>\n",
       "    .dataframe tbody tr th:only-of-type {\n",
       "        vertical-align: middle;\n",
       "    }\n",
       "\n",
       "    .dataframe tbody tr th {\n",
       "        vertical-align: top;\n",
       "    }\n",
       "\n",
       "    .dataframe thead th {\n",
       "        text-align: right;\n",
       "    }\n",
       "</style>\n",
       "<table border=\"1\" class=\"dataframe\">\n",
       "  <thead>\n",
       "    <tr style=\"text-align: right;\">\n",
       "      <th></th>\n",
       "      <th>country</th>\n",
       "      <th>time-period</th>\n",
       "      <th>sector</th>\n",
       "      <th>energy-type</th>\n",
       "      <th>value(KTOE)</th>\n",
       "    </tr>\n",
       "  </thead>\n",
       "  <tbody>\n",
       "  </tbody>\n",
       "</table>\n",
       "</div>"
      ],
      "text/plain": [
       "Empty DataFrame\n",
       "Columns: [country, time-period, sector, energy-type, value(KTOE)]\n",
       "Index: []"
      ]
     },
     "execution_count": 42,
     "metadata": {},
     "output_type": "execute_result"
    }
   ],
   "source": [
    "# check for duplicity\n",
    "consump_industry[consump_industry.duplicated()]"
   ]
  },
  {
   "cell_type": "markdown",
   "id": "7f83da27",
   "metadata": {},
   "source": [
    "### There is no duplicated row"
   ]
  },
  {
   "cell_type": "code",
   "execution_count": 43,
   "id": "23330742",
   "metadata": {},
   "outputs": [
    {
     "data": {
      "text/html": [
       "<div>\n",
       "<style scoped>\n",
       "    .dataframe tbody tr th:only-of-type {\n",
       "        vertical-align: middle;\n",
       "    }\n",
       "\n",
       "    .dataframe tbody tr th {\n",
       "        vertical-align: top;\n",
       "    }\n",
       "\n",
       "    .dataframe thead th {\n",
       "        text-align: right;\n",
       "    }\n",
       "</style>\n",
       "<table border=\"1\" class=\"dataframe\">\n",
       "  <thead>\n",
       "    <tr style=\"text-align: right;\">\n",
       "      <th></th>\n",
       "      <th>country</th>\n",
       "      <th>time-period</th>\n",
       "      <th>sector</th>\n",
       "      <th>energy-type</th>\n",
       "      <th>value(KTOE)</th>\n",
       "    </tr>\n",
       "  </thead>\n",
       "  <tbody>\n",
       "    <tr>\n",
       "      <th>0</th>\n",
       "      <td>Albania</td>\n",
       "      <td>2009</td>\n",
       "      <td>industry</td>\n",
       "      <td>Solid fossil fuels</td>\n",
       "      <td>98.149</td>\n",
       "    </tr>\n",
       "    <tr>\n",
       "      <th>1</th>\n",
       "      <td>Albania</td>\n",
       "      <td>2010</td>\n",
       "      <td>industry</td>\n",
       "      <td>Solid fossil fuels</td>\n",
       "      <td>108.549</td>\n",
       "    </tr>\n",
       "    <tr>\n",
       "      <th>2</th>\n",
       "      <td>Albania</td>\n",
       "      <td>2011</td>\n",
       "      <td>industry</td>\n",
       "      <td>Solid fossil fuels</td>\n",
       "      <td>137.799</td>\n",
       "    </tr>\n",
       "    <tr>\n",
       "      <th>3</th>\n",
       "      <td>Albania</td>\n",
       "      <td>2012</td>\n",
       "      <td>industry</td>\n",
       "      <td>Solid fossil fuels</td>\n",
       "      <td>76.049</td>\n",
       "    </tr>\n",
       "    <tr>\n",
       "      <th>4</th>\n",
       "      <td>Albania</td>\n",
       "      <td>2013</td>\n",
       "      <td>industry</td>\n",
       "      <td>Solid fossil fuels</td>\n",
       "      <td>63.050</td>\n",
       "    </tr>\n",
       "    <tr>\n",
       "      <th>...</th>\n",
       "      <td>...</td>\n",
       "      <td>...</td>\n",
       "      <td>...</td>\n",
       "      <td>...</td>\n",
       "      <td>...</td>\n",
       "    </tr>\n",
       "    <tr>\n",
       "      <th>5623</th>\n",
       "      <td>Kosovo</td>\n",
       "      <td>2016</td>\n",
       "      <td>industry</td>\n",
       "      <td>Non-renewable waste</td>\n",
       "      <td>0.000</td>\n",
       "    </tr>\n",
       "    <tr>\n",
       "      <th>5624</th>\n",
       "      <td>Kosovo</td>\n",
       "      <td>2017</td>\n",
       "      <td>industry</td>\n",
       "      <td>Non-renewable waste</td>\n",
       "      <td>0.000</td>\n",
       "    </tr>\n",
       "    <tr>\n",
       "      <th>5625</th>\n",
       "      <td>Kosovo</td>\n",
       "      <td>2018</td>\n",
       "      <td>industry</td>\n",
       "      <td>Non-renewable waste</td>\n",
       "      <td>0.000</td>\n",
       "    </tr>\n",
       "    <tr>\n",
       "      <th>5626</th>\n",
       "      <td>Kosovo</td>\n",
       "      <td>2019</td>\n",
       "      <td>industry</td>\n",
       "      <td>Non-renewable waste</td>\n",
       "      <td>0.000</td>\n",
       "    </tr>\n",
       "    <tr>\n",
       "      <th>5627</th>\n",
       "      <td>Kosovo</td>\n",
       "      <td>2020</td>\n",
       "      <td>industry</td>\n",
       "      <td>Non-renewable waste</td>\n",
       "      <td>0.000</td>\n",
       "    </tr>\n",
       "  </tbody>\n",
       "</table>\n",
       "<p>5628 rows × 5 columns</p>\n",
       "</div>"
      ],
      "text/plain": [
       "      country  time-period    sector          energy-type  value(KTOE)\n",
       "0     Albania         2009  industry   Solid fossil fuels       98.149\n",
       "1     Albania         2010  industry   Solid fossil fuels      108.549\n",
       "2     Albania         2011  industry   Solid fossil fuels      137.799\n",
       "3     Albania         2012  industry   Solid fossil fuels       76.049\n",
       "4     Albania         2013  industry   Solid fossil fuels       63.050\n",
       "...       ...          ...       ...                  ...          ...\n",
       "5623   Kosovo         2016  industry  Non-renewable waste        0.000\n",
       "5624   Kosovo         2017  industry  Non-renewable waste        0.000\n",
       "5625   Kosovo         2018  industry  Non-renewable waste        0.000\n",
       "5626   Kosovo         2019  industry  Non-renewable waste        0.000\n",
       "5627   Kosovo         2020  industry  Non-renewable waste        0.000\n",
       "\n",
       "[5628 rows x 5 columns]"
      ]
     },
     "execution_count": 43,
     "metadata": {},
     "output_type": "execute_result"
    }
   ],
   "source": [
    "# reset index for new dataset\n",
    "consump_industry.reset_index(drop=True, inplace=True)\n",
    "consump_industry"
   ]
  },
  {
   "cell_type": "markdown",
   "id": "fa139eef",
   "metadata": {},
   "source": [
    "## The final form of the 'consum_industry' data frame will be as follow"
   ]
  },
  {
   "cell_type": "code",
   "execution_count": 45,
   "id": "a5b918d1",
   "metadata": {},
   "outputs": [
    {
     "data": {
      "text/html": [
       "<div>\n",
       "<style scoped>\n",
       "    .dataframe tbody tr th:only-of-type {\n",
       "        vertical-align: middle;\n",
       "    }\n",
       "\n",
       "    .dataframe tbody tr th {\n",
       "        vertical-align: top;\n",
       "    }\n",
       "\n",
       "    .dataframe thead th {\n",
       "        text-align: right;\n",
       "    }\n",
       "</style>\n",
       "<table border=\"1\" class=\"dataframe\">\n",
       "  <thead>\n",
       "    <tr style=\"text-align: right;\">\n",
       "      <th></th>\n",
       "      <th>country</th>\n",
       "      <th>time-period</th>\n",
       "      <th>sector</th>\n",
       "      <th>energy-type</th>\n",
       "      <th>value(KTOE)</th>\n",
       "    </tr>\n",
       "  </thead>\n",
       "  <tbody>\n",
       "    <tr>\n",
       "      <th>0</th>\n",
       "      <td>Albania</td>\n",
       "      <td>2009</td>\n",
       "      <td>industry</td>\n",
       "      <td>Solid fossil fuels</td>\n",
       "      <td>98.149</td>\n",
       "    </tr>\n",
       "    <tr>\n",
       "      <th>1</th>\n",
       "      <td>Albania</td>\n",
       "      <td>2010</td>\n",
       "      <td>industry</td>\n",
       "      <td>Solid fossil fuels</td>\n",
       "      <td>108.549</td>\n",
       "    </tr>\n",
       "    <tr>\n",
       "      <th>2</th>\n",
       "      <td>Albania</td>\n",
       "      <td>2011</td>\n",
       "      <td>industry</td>\n",
       "      <td>Solid fossil fuels</td>\n",
       "      <td>137.799</td>\n",
       "    </tr>\n",
       "    <tr>\n",
       "      <th>3</th>\n",
       "      <td>Albania</td>\n",
       "      <td>2012</td>\n",
       "      <td>industry</td>\n",
       "      <td>Solid fossil fuels</td>\n",
       "      <td>76.049</td>\n",
       "    </tr>\n",
       "    <tr>\n",
       "      <th>4</th>\n",
       "      <td>Albania</td>\n",
       "      <td>2013</td>\n",
       "      <td>industry</td>\n",
       "      <td>Solid fossil fuels</td>\n",
       "      <td>63.050</td>\n",
       "    </tr>\n",
       "  </tbody>\n",
       "</table>\n",
       "</div>"
      ],
      "text/plain": [
       "   country  time-period    sector         energy-type  value(KTOE)\n",
       "0  Albania         2009  industry  Solid fossil fuels       98.149\n",
       "1  Albania         2010  industry  Solid fossil fuels      108.549\n",
       "2  Albania         2011  industry  Solid fossil fuels      137.799\n",
       "3  Albania         2012  industry  Solid fossil fuels       76.049\n",
       "4  Albania         2013  industry  Solid fossil fuels       63.050"
      ]
     },
     "execution_count": 45,
     "metadata": {},
     "output_type": "execute_result"
    }
   ],
   "source": [
    "consump_industry.head()"
   ]
  },
  {
   "cell_type": "code",
   "execution_count": 46,
   "id": "d3cc40b8",
   "metadata": {},
   "outputs": [
    {
     "data": {
      "text/plain": [
       "(5628, 5)"
      ]
     },
     "execution_count": 46,
     "metadata": {},
     "output_type": "execute_result"
    }
   ],
   "source": [
    "consump_industry.shape"
   ]
  },
  {
   "cell_type": "code",
   "execution_count": 47,
   "id": "6c95b765",
   "metadata": {},
   "outputs": [
    {
     "name": "stdout",
     "output_type": "stream",
     "text": [
      "<class 'pandas.core.frame.DataFrame'>\n",
      "RangeIndex: 5628 entries, 0 to 5627\n",
      "Data columns (total 5 columns):\n",
      " #   Column       Non-Null Count  Dtype  \n",
      "---  ------       --------------  -----  \n",
      " 0   country      5628 non-null   object \n",
      " 1   time-period  5628 non-null   int64  \n",
      " 2   sector       5628 non-null   object \n",
      " 3   energy-type  5628 non-null   object \n",
      " 4   value(KTOE)  5628 non-null   float64\n",
      "dtypes: float64(1), int64(1), object(3)\n",
      "memory usage: 220.0+ KB\n"
     ]
    }
   ],
   "source": [
    "consump_industry.info()"
   ]
  },
  {
   "cell_type": "code",
   "execution_count": 48,
   "id": "b9d36d00",
   "metadata": {},
   "outputs": [
    {
     "data": {
      "text/html": [
       "<div>\n",
       "<style scoped>\n",
       "    .dataframe tbody tr th:only-of-type {\n",
       "        vertical-align: middle;\n",
       "    }\n",
       "\n",
       "    .dataframe tbody tr th {\n",
       "        vertical-align: top;\n",
       "    }\n",
       "\n",
       "    .dataframe thead th {\n",
       "        text-align: right;\n",
       "    }\n",
       "</style>\n",
       "<table border=\"1\" class=\"dataframe\">\n",
       "  <thead>\n",
       "    <tr style=\"text-align: right;\">\n",
       "      <th></th>\n",
       "      <th>time-period</th>\n",
       "      <th>value(KTOE)</th>\n",
       "    </tr>\n",
       "  </thead>\n",
       "  <tbody>\n",
       "    <tr>\n",
       "      <th>count</th>\n",
       "      <td>5628.000000</td>\n",
       "      <td>5628.000000</td>\n",
       "    </tr>\n",
       "    <tr>\n",
       "      <th>mean</th>\n",
       "      <td>2014.571429</td>\n",
       "      <td>1353.440274</td>\n",
       "    </tr>\n",
       "    <tr>\n",
       "      <th>std</th>\n",
       "      <td>3.430031</td>\n",
       "      <td>4325.505803</td>\n",
       "    </tr>\n",
       "    <tr>\n",
       "      <th>min</th>\n",
       "      <td>2009.000000</td>\n",
       "      <td>0.000000</td>\n",
       "    </tr>\n",
       "    <tr>\n",
       "      <th>25%</th>\n",
       "      <td>2012.000000</td>\n",
       "      <td>0.000000</td>\n",
       "    </tr>\n",
       "    <tr>\n",
       "      <th>50%</th>\n",
       "      <td>2015.000000</td>\n",
       "      <td>80.087000</td>\n",
       "    </tr>\n",
       "    <tr>\n",
       "      <th>75%</th>\n",
       "      <td>2018.000000</td>\n",
       "      <td>652.226000</td>\n",
       "    </tr>\n",
       "    <tr>\n",
       "      <th>max</th>\n",
       "      <td>2020.000000</td>\n",
       "      <td>57409.744000</td>\n",
       "    </tr>\n",
       "  </tbody>\n",
       "</table>\n",
       "</div>"
      ],
      "text/plain": [
       "       time-period   value(KTOE)\n",
       "count  5628.000000   5628.000000\n",
       "mean   2014.571429   1353.440274\n",
       "std       3.430031   4325.505803\n",
       "min    2009.000000      0.000000\n",
       "25%    2012.000000      0.000000\n",
       "50%    2015.000000     80.087000\n",
       "75%    2018.000000    652.226000\n",
       "max    2020.000000  57409.744000"
      ]
     },
     "execution_count": 48,
     "metadata": {},
     "output_type": "execute_result"
    }
   ],
   "source": [
    "consump_industry.describe()"
   ]
  },
  {
   "cell_type": "code",
   "execution_count": 49,
   "id": "ae8755b8",
   "metadata": {},
   "outputs": [
    {
     "data": {
      "text/plain": [
       "<AxesSubplot:ylabel='Frequency'>"
      ]
     },
     "execution_count": 49,
     "metadata": {},
     "output_type": "execute_result"
    },
    {
     "data": {
      "image/png": "[encoded data removed]",
      "text/plain": [
       "<Figure size 432x288 with 1 Axes>"
      ]
     },
     "metadata": {
      "needs_background": "light"
     },
     "output_type": "display_data"
    }
   ],
   "source": [
    "consump_industry['value(KTOE)'].plot.hist(bins=50)"
   ]
  },
  {
   "cell_type": "code",
   "execution_count": 51,
   "id": "8eea1ebf",
   "metadata": {},
   "outputs": [],
   "source": [
    "# Save data set in pickle and csv formats\n",
    "consump_industry.to_csv(os.path.join(path, '2 Data set', 'Modified', 'consump_industry.csv'))\n",
    "consump_industry.to_pickle(os.path.join(path, '2 Data set', 'Modified', 'consump_industry.pkl'))"
   ]
  }
 ],
 "metadata": {
  "kernelspec": {
   "display_name": "Python 3 (ipykernel)",
   "language": "python",
   "name": "python3"
  },
  "language_info": {
   "codemirror_mode": {
    "name": "ipython",
    "version": 3
   },
   "file_extension": ".py",
   "mimetype": "text/x-python",
   "name": "python",
   "nbconvert_exporter": "python",
   "pygments_lexer": "ipython3",
   "version": "3.9.12"
  }
 },
 "nbformat": 4,
 "nbformat_minor": 5
}
