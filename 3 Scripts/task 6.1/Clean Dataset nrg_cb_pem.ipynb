{
 "cells": [
  {
   "cell_type": "markdown",
   "id": "2fcbb5ad",
   "metadata": {},
   "source": [
    "# Load libraries and data sets"
   ]
  },
  {
   "cell_type": "code",
   "execution_count": 101,
   "id": "d0326783",
   "metadata": {},
   "outputs": [],
   "source": [
    "# Load libraries\n",
    "import pandas as pd\n",
    "import numpy as np\n",
    "import os\n",
    "import matplotlib.pyplot as plt"
   ]
  },
  {
   "cell_type": "code",
   "execution_count": 103,
   "id": "982562a0",
   "metadata": {},
   "outputs": [
    {
     "data": {
      "text/html": [
       "<div>\n",
       "<style scoped>\n",
       "    .dataframe tbody tr th:only-of-type {\n",
       "        vertical-align: middle;\n",
       "    }\n",
       "\n",
       "    .dataframe tbody tr th {\n",
       "        vertical-align: top;\n",
       "    }\n",
       "\n",
       "    .dataframe thead th {\n",
       "        text-align: right;\n",
       "    }\n",
       "</style>\n",
       "<table border=\"1\" class=\"dataframe\">\n",
       "  <thead>\n",
       "    <tr style=\"text-align: right;\">\n",
       "      <th></th>\n",
       "      <th>DATAFLOW</th>\n",
       "      <th>LAST UPDATE</th>\n",
       "      <th>freq</th>\n",
       "      <th>siec</th>\n",
       "      <th>unit</th>\n",
       "      <th>geo</th>\n",
       "      <th>TIME_PERIOD</th>\n",
       "      <th>OBS_VALUE</th>\n",
       "      <th>OBS_FLAG</th>\n",
       "    </tr>\n",
       "  </thead>\n",
       "  <tbody>\n",
       "    <tr>\n",
       "      <th>0</th>\n",
       "      <td>ESTAT:NRG_CB_PEM(1.0)</td>\n",
       "      <td>10/08/22 23:00:00</td>\n",
       "      <td>M</td>\n",
       "      <td>C0000</td>\n",
       "      <td>GWH</td>\n",
       "      <td>AL</td>\n",
       "      <td>2018-01</td>\n",
       "      <td>0.0</td>\n",
       "      <td>NaN</td>\n",
       "    </tr>\n",
       "    <tr>\n",
       "      <th>1</th>\n",
       "      <td>ESTAT:NRG_CB_PEM(1.0)</td>\n",
       "      <td>10/08/22 23:00:00</td>\n",
       "      <td>M</td>\n",
       "      <td>C0000</td>\n",
       "      <td>GWH</td>\n",
       "      <td>AL</td>\n",
       "      <td>2018-02</td>\n",
       "      <td>0.0</td>\n",
       "      <td>NaN</td>\n",
       "    </tr>\n",
       "    <tr>\n",
       "      <th>2</th>\n",
       "      <td>ESTAT:NRG_CB_PEM(1.0)</td>\n",
       "      <td>10/08/22 23:00:00</td>\n",
       "      <td>M</td>\n",
       "      <td>C0000</td>\n",
       "      <td>GWH</td>\n",
       "      <td>AL</td>\n",
       "      <td>2018-03</td>\n",
       "      <td>0.0</td>\n",
       "      <td>NaN</td>\n",
       "    </tr>\n",
       "    <tr>\n",
       "      <th>3</th>\n",
       "      <td>ESTAT:NRG_CB_PEM(1.0)</td>\n",
       "      <td>10/08/22 23:00:00</td>\n",
       "      <td>M</td>\n",
       "      <td>C0000</td>\n",
       "      <td>GWH</td>\n",
       "      <td>AL</td>\n",
       "      <td>2018-04</td>\n",
       "      <td>0.0</td>\n",
       "      <td>NaN</td>\n",
       "    </tr>\n",
       "    <tr>\n",
       "      <th>4</th>\n",
       "      <td>ESTAT:NRG_CB_PEM(1.0)</td>\n",
       "      <td>10/08/22 23:00:00</td>\n",
       "      <td>M</td>\n",
       "      <td>C0000</td>\n",
       "      <td>GWH</td>\n",
       "      <td>AL</td>\n",
       "      <td>2018-05</td>\n",
       "      <td>0.0</td>\n",
       "      <td>NaN</td>\n",
       "    </tr>\n",
       "  </tbody>\n",
       "</table>\n",
       "</div>"
      ],
      "text/plain": [
       "                DATAFLOW        LAST UPDATE freq   siec unit geo TIME_PERIOD  \\\n",
       "0  ESTAT:NRG_CB_PEM(1.0)  10/08/22 23:00:00    M  C0000  GWH  AL     2018-01   \n",
       "1  ESTAT:NRG_CB_PEM(1.0)  10/08/22 23:00:00    M  C0000  GWH  AL     2018-02   \n",
       "2  ESTAT:NRG_CB_PEM(1.0)  10/08/22 23:00:00    M  C0000  GWH  AL     2018-03   \n",
       "3  ESTAT:NRG_CB_PEM(1.0)  10/08/22 23:00:00    M  C0000  GWH  AL     2018-04   \n",
       "4  ESTAT:NRG_CB_PEM(1.0)  10/08/22 23:00:00    M  C0000  GWH  AL     2018-05   \n",
       "\n",
       "   OBS_VALUE OBS_FLAG  \n",
       "0        0.0      NaN  \n",
       "1        0.0      NaN  \n",
       "2        0.0      NaN  \n",
       "3        0.0      NaN  \n",
       "4        0.0      NaN  "
      ]
     },
     "execution_count": 103,
     "metadata": {},
     "output_type": "execute_result"
    }
   ],
   "source": [
    "# Load data set \"electricity production by fuels\"\n",
    "\n",
    "path = r'G:\\Career Foundery\\CFundry-6'\n",
    "elect_production = pd.read_csv(os.path.join(path, '2 Data set', 'Original', 'nrg_cb_pem_linear.csv','nrg_cb_pem_linear.csv'), index_col=False)\n",
    "elect_production.head()"
   ]
  },
  {
   "cell_type": "code",
   "execution_count": 104,
   "id": "b1a0825e",
   "metadata": {},
   "outputs": [],
   "source": [
    "# remove redundant columns\n",
    "elect_production.drop(['DATAFLOW', 'LAST UPDATE', 'freq', 'OBS_FLAG', 'unit'], axis=1, inplace=True)"
   ]
  },
  {
   "cell_type": "code",
   "execution_count": 105,
   "id": "78718926",
   "metadata": {},
   "outputs": [],
   "source": [
    "# define the name of columns\n",
    "elect_production.rename(columns={'geo': 'country-code', 'TIME_PERIOD': 'time-period', 'OBS_VALUE': 'value(GWH)'}, inplace=True)"
   ]
  },
  {
   "cell_type": "code",
   "execution_count": 106,
   "id": "2fa5bbc3",
   "metadata": {},
   "outputs": [
    {
     "data": {
      "text/plain": [
       "41"
      ]
     },
     "execution_count": 106,
     "metadata": {},
     "output_type": "execute_result"
    }
   ],
   "source": [
    "# define the codes of countries and fuels\n",
    "country_codes = {'SK':'Slovakia', 'FI':'Finland', 'SE':'Sweden', 'IS':'Iceland','NO':'Norway', 'UK':'United Kingdom',\n",
    "                 'ME': 'Montenegro','MK':'North Macedonia', 'GE':'Georgia', 'EU27_2020':'European Union - 27 countries (from 2020)', \n",
    "                 'AL':'Albania', 'RS':'Serbia', 'TR':'Turkey', 'BA':'Bosnia and Herzegovina', 'MD':'Moldova', 'UA':'Ukraine',  \n",
    "                 'EA19':'Euro area - 19 countries (from 2015)', 'BE':'Belgium', 'BG':'Bulgaria', 'CZ':'Czechia', 'DK':'Denmark',\n",
    "                 'DE':'Germany', 'EE':'Estonia', 'IE':'Ireland', 'EL':'Greece', 'ES': 'Spain', 'FR':'France', 'HR':'Croatia',\n",
    "                 'IT':'Italy', 'CY':'Cyprus', 'LV':'Latvia', 'LT':'Lithuania', 'LU':'Luxembourg', 'HU':'Hungary', 'MT':'Malta',\n",
    "                 'NL':'Netherlands', 'AT':'Austria', 'PL':'Poland', 'PT':'Portugal', 'RO':'Romania', 'SI':'Slovenia'}\n",
    "len(country_codes)"
   ]
  },
  {
   "cell_type": "code",
   "execution_count": 1,
   "id": "03f57b01",
   "metadata": {},
   "outputs": [
    {
     "data": {
      "text/plain": [
       "{'TOTAL': 'Total',\n",
       " 'CF': 'Combustible fuels',\n",
       " 'CF_R': 'Combustible fuels - renewable',\n",
       " 'CF_NR': 'Combustible fuels - non-renewable',\n",
       " 'C0000': 'Coal and manufactured gases',\n",
       " 'G3000': 'Natural gas',\n",
       " 'O4000XBIO': 'Oil and petroleum products (excluding biofuel portion)',\n",
       " 'RA100': 'Hydro',\n",
       " 'RA110': 'Pure hydro power',\n",
       " 'RA120': 'Mixed hydro power',\n",
       " 'RA130': 'Pumped hydro power',\n",
       " 'RA200': 'Geothermal',\n",
       " 'RA300': 'Wind',\n",
       " 'RA310': 'Wind on shore',\n",
       " 'RA320': 'Wind off shore',\n",
       " 'RA400': 'Solar',\n",
       " 'RA410': 'Solar thermal',\n",
       " 'RA420': 'Solar photovoltaic',\n",
       " 'RA500_5160': 'Other renewable energies',\n",
       " 'N9000': 'Nuclear fuels and other fuels n.e.c.',\n",
       " 'X9900': 'Other fuels n.e.c.'}"
      ]
     },
     "execution_count": 1,
     "metadata": {},
     "output_type": "execute_result"
    }
   ],
   "source": [
    "# define the codes of fuels\n",
    "fuel_codes = {'TOTAL':'Total', 'CF':'Combustible fuels', 'CF_R':'Combustible fuels - renewable', 'CF_NR':'Combustible fuels - non-renewable',\n",
    "              'C0000':'Coal and manufactured gases', 'G3000':'Natural gas','O4000XBIO':'Oil and petroleum products (excluding biofuel portion)',\n",
    "              'RA100':'Hydro', 'RA110':'Pure hydro power', 'RA120':'Mixed hydro power', 'RA130':'Pumped hydro power', 'RA200':'Geothermal',\n",
    "              'RA300':'Wind', 'RA310':'Wind on shore', 'RA320':'Wind off shore', 'RA400':'Solar', 'RA410':'Solar thermal', 'RA420':'Solar photovoltaic',\n",
    "              'RA500_5160':'Other renewable energies', 'N9000':'Nuclear fuels and other fuels n.e.c.', 'X9900':'Other fuels n.e.c.'}\n",
    "fuel_codes"
   ]
  },
  {
   "cell_type": "code",
   "execution_count": 108,
   "id": "086d5de6",
   "metadata": {},
   "outputs": [],
   "source": [
    "# replace country abbreviations by full name\n",
    "elect_production['country'] = list(map(country_codes.get, elect_production['country-code'].tolist()))"
   ]
  },
  {
   "cell_type": "code",
   "execution_count": 109,
   "id": "8e0c95cf",
   "metadata": {},
   "outputs": [],
   "source": [
    "# replace fuel types by complete name\n",
    "elect_production['fuel-type'] = list(map(fuel_codes.get, elect_production['siec'].tolist()))"
   ]
  },
  {
   "cell_type": "code",
   "execution_count": 110,
   "id": "10a853f5",
   "metadata": {},
   "outputs": [],
   "source": [
    "# remove columns: siec & country\n",
    "elect_production.drop(['siec', 'country-code'], axis=1, inplace=True)"
   ]
  },
  {
   "cell_type": "code",
   "execution_count": 111,
   "id": "52b3592a",
   "metadata": {},
   "outputs": [
    {
     "data": {
      "text/html": [
       "<div>\n",
       "<style scoped>\n",
       "    .dataframe tbody tr th:only-of-type {\n",
       "        vertical-align: middle;\n",
       "    }\n",
       "\n",
       "    .dataframe tbody tr th {\n",
       "        vertical-align: top;\n",
       "    }\n",
       "\n",
       "    .dataframe thead th {\n",
       "        text-align: right;\n",
       "    }\n",
       "</style>\n",
       "<table border=\"1\" class=\"dataframe\">\n",
       "  <thead>\n",
       "    <tr style=\"text-align: right;\">\n",
       "      <th></th>\n",
       "      <th>country</th>\n",
       "      <th>time-period</th>\n",
       "      <th>fuel-type</th>\n",
       "      <th>value(GWH)</th>\n",
       "    </tr>\n",
       "  </thead>\n",
       "  <tbody>\n",
       "    <tr>\n",
       "      <th>0</th>\n",
       "      <td>Albania</td>\n",
       "      <td>2018-01</td>\n",
       "      <td>Coal and manufactured gases</td>\n",
       "      <td>0.0</td>\n",
       "    </tr>\n",
       "    <tr>\n",
       "      <th>1</th>\n",
       "      <td>Albania</td>\n",
       "      <td>2018-02</td>\n",
       "      <td>Coal and manufactured gases</td>\n",
       "      <td>0.0</td>\n",
       "    </tr>\n",
       "    <tr>\n",
       "      <th>2</th>\n",
       "      <td>Albania</td>\n",
       "      <td>2018-03</td>\n",
       "      <td>Coal and manufactured gases</td>\n",
       "      <td>0.0</td>\n",
       "    </tr>\n",
       "    <tr>\n",
       "      <th>3</th>\n",
       "      <td>Albania</td>\n",
       "      <td>2018-04</td>\n",
       "      <td>Coal and manufactured gases</td>\n",
       "      <td>0.0</td>\n",
       "    </tr>\n",
       "    <tr>\n",
       "      <th>4</th>\n",
       "      <td>Albania</td>\n",
       "      <td>2018-05</td>\n",
       "      <td>Coal and manufactured gases</td>\n",
       "      <td>0.0</td>\n",
       "    </tr>\n",
       "  </tbody>\n",
       "</table>\n",
       "</div>"
      ],
      "text/plain": [
       "   country time-period                    fuel-type  value(GWH)\n",
       "0  Albania     2018-01  Coal and manufactured gases         0.0\n",
       "1  Albania     2018-02  Coal and manufactured gases         0.0\n",
       "2  Albania     2018-03  Coal and manufactured gases         0.0\n",
       "3  Albania     2018-04  Coal and manufactured gases         0.0\n",
       "4  Albania     2018-05  Coal and manufactured gases         0.0"
      ]
     },
     "execution_count": 111,
     "metadata": {},
     "output_type": "execute_result"
    }
   ],
   "source": [
    "elect_production = elect_production[['country','time-period','fuel-type','value(GWH)'  ]]\n",
    "elect_production.head()"
   ]
  },
  {
   "cell_type": "code",
   "execution_count": 112,
   "id": "408c14ad",
   "metadata": {},
   "outputs": [
    {
     "data": {
      "text/plain": [
       "(55073, 4)"
      ]
     },
     "execution_count": 112,
     "metadata": {},
     "output_type": "execute_result"
    }
   ],
   "source": [
    "# shape of the dataset\n",
    "elect_production.shape"
   ]
  },
  {
   "cell_type": "code",
   "execution_count": 114,
   "id": "cdface76",
   "metadata": {},
   "outputs": [
    {
     "name": "stdout",
     "output_type": "stream",
     "text": [
      "<class 'pandas.core.frame.DataFrame'>\n",
      "RangeIndex: 55073 entries, 0 to 55072\n",
      "Data columns (total 4 columns):\n",
      " #   Column       Non-Null Count  Dtype  \n",
      "---  ------       --------------  -----  \n",
      " 0   country      55073 non-null  object \n",
      " 1   time-period  55073 non-null  object \n",
      " 2   fuel-type    55073 non-null  object \n",
      " 3   value(GWH)   54784 non-null  float64\n",
      "dtypes: float64(1), object(3)\n",
      "memory usage: 1.7+ MB\n"
     ]
    }
   ],
   "source": [
    "# data type of attributes\n",
    "elect_production.info()"
   ]
  },
  {
   "cell_type": "markdown",
   "id": "934d626d",
   "metadata": {},
   "source": [
    "### There is no null values in 'country', 'time-period' & 'fuel-type', but there is 289 null values in 'value(GWH)'"
   ]
  },
  {
   "cell_type": "code",
   "execution_count": 116,
   "id": "542f957d",
   "metadata": {},
   "outputs": [
    {
     "name": "stdout",
     "output_type": "stream",
     "text": [
      "country doesn't contain mixed data types\n",
      "time-period doesn't contain mixed data types\n",
      "fuel-type doesn't contain mixed data types\n",
      "value(GWH) doesn't contain mixed data types\n"
     ]
    }
   ],
   "source": [
    "# check for mixed data type in df_ords\n",
    "for col in elect_production.columns.tolist():\n",
    "  weird = (elect_production[[col]].applymap(type) != elect_production[[col]].iloc[0].apply(type)).any(axis = 1)\n",
    "  if len (elect_production[weird]) > 0:\n",
    "    print (col + ' contains mixed data types')\n",
    "  else:\n",
    "    print (col + ' doesn\\'t contain mixed data types')"
   ]
  },
  {
   "cell_type": "code",
   "execution_count": 117,
   "id": "7bead137",
   "metadata": {
    "scrolled": true
   },
   "outputs": [
    {
     "data": {
      "text/html": [
       "<div>\n",
       "<style scoped>\n",
       "    .dataframe tbody tr th:only-of-type {\n",
       "        vertical-align: middle;\n",
       "    }\n",
       "\n",
       "    .dataframe tbody tr th {\n",
       "        vertical-align: top;\n",
       "    }\n",
       "\n",
       "    .dataframe thead th {\n",
       "        text-align: right;\n",
       "    }\n",
       "</style>\n",
       "<table border=\"1\" class=\"dataframe\">\n",
       "  <thead>\n",
       "    <tr style=\"text-align: right;\">\n",
       "      <th></th>\n",
       "      <th>value(GWH)</th>\n",
       "    </tr>\n",
       "  </thead>\n",
       "  <tbody>\n",
       "    <tr>\n",
       "      <th>count</th>\n",
       "      <td>54784.000000</td>\n",
       "    </tr>\n",
       "    <tr>\n",
       "      <th>mean</th>\n",
       "      <td>2342.465430</td>\n",
       "    </tr>\n",
       "    <tr>\n",
       "      <th>std</th>\n",
       "      <td>12080.625695</td>\n",
       "    </tr>\n",
       "    <tr>\n",
       "      <th>min</th>\n",
       "      <td>-2.538000</td>\n",
       "    </tr>\n",
       "    <tr>\n",
       "      <th>25%</th>\n",
       "      <td>0.000000</td>\n",
       "    </tr>\n",
       "    <tr>\n",
       "      <th>50%</th>\n",
       "      <td>26.535000</td>\n",
       "    </tr>\n",
       "    <tr>\n",
       "      <th>75%</th>\n",
       "      <td>662.935000</td>\n",
       "    </tr>\n",
       "    <tr>\n",
       "      <th>max</th>\n",
       "      <td>271874.687000</td>\n",
       "    </tr>\n",
       "  </tbody>\n",
       "</table>\n",
       "</div>"
      ],
      "text/plain": [
       "          value(GWH)\n",
       "count   54784.000000\n",
       "mean     2342.465430\n",
       "std     12080.625695\n",
       "min        -2.538000\n",
       "25%         0.000000\n",
       "50%        26.535000\n",
       "75%       662.935000\n",
       "max    271874.687000"
      ]
     },
     "execution_count": 117,
     "metadata": {},
     "output_type": "execute_result"
    }
   ],
   "source": [
    "# descriptive statistics\n",
    "elect_production.describe()"
   ]
  },
  {
   "cell_type": "markdown",
   "id": "170f4fda",
   "metadata": {},
   "source": [
    "### There are negative values in electricity productions which are not seems to be logical and accurate values"
   ]
  },
  {
   "cell_type": "code",
   "execution_count": 118,
   "id": "018200c4",
   "metadata": {},
   "outputs": [
    {
     "data": {
      "text/plain": [
       "<AxesSubplot:ylabel='Frequency'>"
      ]
     },
     "execution_count": 118,
     "metadata": {},
     "output_type": "execute_result"
    },
    {
     "data": {
      "image/png": "[encoded data removed]",
      "text/plain": [
       "<Figure size 432x288 with 1 Axes>"
      ]
     },
     "metadata": {
      "needs_background": "light"
     },
     "output_type": "display_data"
    }
   ],
   "source": [
    "# distribution of values\n",
    "elect_production['value(GWH)'].plot.hist(bins=50)"
   ]
  },
  {
   "cell_type": "markdown",
   "id": "0c8ba7c2",
   "metadata": {},
   "source": [
    "### There are lots of '0' value in data set. Therefore, we can expect that for many countries or fuel type we will have zero electricity generation."
   ]
  },
  {
   "cell_type": "code",
   "execution_count": 119,
   "id": "192d4eef",
   "metadata": {},
   "outputs": [
    {
     "data": {
      "text/plain": [
       "Ireland                                      1458\n",
       "Finland                                      1458\n",
       "Malta                                        1458\n",
       "Spain                                        1458\n",
       "Sweden                                       1458\n",
       "Luxembourg                                   1437\n",
       "Austria                                      1437\n",
       "Slovakia                                     1437\n",
       "Lithuania                                    1437\n",
       "Croatia                                      1437\n",
       "Latvia                                       1437\n",
       "Hungary                                      1437\n",
       "North Macedonia                              1437\n",
       "Norway                                       1437\n",
       "Poland                                       1437\n",
       "Portugal                                     1437\n",
       "Slovenia                                     1437\n",
       "Romania                                      1437\n",
       "Serbia                                       1437\n",
       "Turkey                                       1437\n",
       "Greece                                       1437\n",
       "Denmark                                      1437\n",
       "Germany                                      1437\n",
       "Czechia                                      1437\n",
       "Cyprus                                       1437\n",
       "Bulgaria                                     1437\n",
       "Belgium                                      1437\n",
       "Estonia                                      1436\n",
       "Netherlands                                  1436\n",
       "France                                       1396\n",
       "Iceland                                      1365\n",
       "European Union - 27 countries (from 2020)    1363\n",
       "Euro area - 19 countries (from 2015)         1363\n",
       "Bosnia and Herzegovina                       1134\n",
       "Albania                                      1113\n",
       "Georgia                                      1092\n",
       "Ukraine                                      1092\n",
       "Italy                                        1072\n",
       "United Kingdom                               1038\n",
       "Montenegro                                    660\n",
       "Moldova                                       609\n",
       "Name: country, dtype: int64"
      ]
     },
     "execution_count": 119,
     "metadata": {},
     "output_type": "execute_result"
    }
   ],
   "source": [
    "# value distribution for 'country'\n",
    "elect_production['country'].value_counts()"
   ]
  },
  {
   "cell_type": "code",
   "execution_count": 120,
   "id": "83b8dfa1",
   "metadata": {},
   "outputs": [
    {
     "data": {
      "text/plain": [
       "Geothermal                                                2926\n",
       "Total                                                     2926\n",
       "Nuclear fuels and other fuels n.e.c.                      2926\n",
       "Hydro                                                     2926\n",
       "Wind                                                      2926\n",
       "Combustible fuels                                         2926\n",
       "Pumped hydro power                                        2530\n",
       "Other renewable energies                                  2530\n",
       "Solar photovoltaic                                        2530\n",
       "Solar thermal                                             2530\n",
       "Solar                                                     2530\n",
       "Other fuels n.e.c.                                        2530\n",
       "Mixed hydro power                                         2530\n",
       "Pure hydro power                                          2530\n",
       "Wind on shore                                             2491\n",
       "Wind off shore                                            2491\n",
       "Natural gas                                               2472\n",
       "Coal and manufactured gases                               2472\n",
       "Oil and petroleum products (excluding biofuel portion)    2469\n",
       "Combustible fuels - renewable                             2469\n",
       "Combustible fuels - non-renewable                         2413\n",
       "Name: fuel-type, dtype: int64"
      ]
     },
     "execution_count": 120,
     "metadata": {},
     "output_type": "execute_result"
    }
   ],
   "source": [
    "# value distribution for 'fuel-type'\n",
    "elect_production['fuel-type'].value_counts()"
   ]
  },
  {
   "cell_type": "code",
   "execution_count": 121,
   "id": "d123e3ac",
   "metadata": {},
   "outputs": [
    {
     "data": {
      "text/plain": [
       "{'Albania',\n",
       " 'Austria',\n",
       " 'Belgium',\n",
       " 'Bosnia and Herzegovina',\n",
       " 'Bulgaria',\n",
       " 'Croatia',\n",
       " 'Cyprus',\n",
       " 'Czechia',\n",
       " 'Denmark',\n",
       " 'Estonia',\n",
       " 'Finland',\n",
       " 'France',\n",
       " 'Georgia',\n",
       " 'Germany',\n",
       " 'Greece',\n",
       " 'Hungary',\n",
       " 'Iceland',\n",
       " 'Ireland',\n",
       " 'Italy',\n",
       " 'Latvia',\n",
       " 'Lithuania',\n",
       " 'Luxembourg',\n",
       " 'Malta',\n",
       " 'Moldova',\n",
       " 'Montenegro',\n",
       " 'Netherlands',\n",
       " 'North Macedonia',\n",
       " 'Norway',\n",
       " 'Poland',\n",
       " 'Portugal',\n",
       " 'Romania',\n",
       " 'Serbia',\n",
       " 'Slovakia',\n",
       " 'Slovenia',\n",
       " 'Spain',\n",
       " 'Sweden',\n",
       " 'Turkey',\n",
       " 'Ukraine',\n",
       " 'United Kingdom'}"
      ]
     },
     "execution_count": 121,
     "metadata": {},
     "output_type": "execute_result"
    }
   ],
   "source": [
    "# remove rows related to 'EU27_2020' & 'EA19' as they are summations for contries in EU and they are not helpful in our analysis\n",
    "elect_production.drop(elect_production[elect_production['country'].isin(['European Union - 27 countries (from 2020)', 'Euro area - 19 countries (from 2015)'])].index, inplace=True)\n",
    "set(elect_production['country'])"
   ]
  },
  {
   "cell_type": "code",
   "execution_count": 122,
   "id": "0a688691",
   "metadata": {},
   "outputs": [
    {
     "data": {
      "text/html": [
       "<div>\n",
       "<style scoped>\n",
       "    .dataframe tbody tr th:only-of-type {\n",
       "        vertical-align: middle;\n",
       "    }\n",
       "\n",
       "    .dataframe tbody tr th {\n",
       "        vertical-align: top;\n",
       "    }\n",
       "\n",
       "    .dataframe thead th {\n",
       "        text-align: right;\n",
       "    }\n",
       "</style>\n",
       "<table border=\"1\" class=\"dataframe\">\n",
       "  <thead>\n",
       "    <tr style=\"text-align: right;\">\n",
       "      <th></th>\n",
       "      <th>country</th>\n",
       "      <th>time-period</th>\n",
       "      <th>fuel-type</th>\n",
       "      <th>value(GWH)</th>\n",
       "    </tr>\n",
       "  </thead>\n",
       "  <tbody>\n",
       "    <tr>\n",
       "      <th>1729</th>\n",
       "      <td>Netherlands</td>\n",
       "      <td>2017-07</td>\n",
       "      <td>Coal and manufactured gases</td>\n",
       "      <td>NaN</td>\n",
       "    </tr>\n",
       "    <tr>\n",
       "      <th>9537</th>\n",
       "      <td>Netherlands</td>\n",
       "      <td>2017-07</td>\n",
       "      <td>Combustible fuels - renewable</td>\n",
       "      <td>NaN</td>\n",
       "    </tr>\n",
       "    <tr>\n",
       "      <th>11938</th>\n",
       "      <td>Malta</td>\n",
       "      <td>2017-02</td>\n",
       "      <td>Natural gas</td>\n",
       "      <td>NaN</td>\n",
       "    </tr>\n",
       "    <tr>\n",
       "      <th>11939</th>\n",
       "      <td>Malta</td>\n",
       "      <td>2017-03</td>\n",
       "      <td>Natural gas</td>\n",
       "      <td>NaN</td>\n",
       "    </tr>\n",
       "    <tr>\n",
       "      <th>11940</th>\n",
       "      <td>Malta</td>\n",
       "      <td>2017-04</td>\n",
       "      <td>Natural gas</td>\n",
       "      <td>NaN</td>\n",
       "    </tr>\n",
       "    <tr>\n",
       "      <th>...</th>\n",
       "      <td>...</td>\n",
       "      <td>...</td>\n",
       "      <td>...</td>\n",
       "      <td>...</td>\n",
       "    </tr>\n",
       "    <tr>\n",
       "      <th>46333</th>\n",
       "      <td>Malta</td>\n",
       "      <td>2022-02</td>\n",
       "      <td>Solar photovoltaic</td>\n",
       "      <td>NaN</td>\n",
       "    </tr>\n",
       "    <tr>\n",
       "      <th>46334</th>\n",
       "      <td>Malta</td>\n",
       "      <td>2022-03</td>\n",
       "      <td>Solar photovoltaic</td>\n",
       "      <td>NaN</td>\n",
       "    </tr>\n",
       "    <tr>\n",
       "      <th>46335</th>\n",
       "      <td>Malta</td>\n",
       "      <td>2022-04</td>\n",
       "      <td>Solar photovoltaic</td>\n",
       "      <td>NaN</td>\n",
       "    </tr>\n",
       "    <tr>\n",
       "      <th>46336</th>\n",
       "      <td>Malta</td>\n",
       "      <td>2022-05</td>\n",
       "      <td>Solar photovoltaic</td>\n",
       "      <td>NaN</td>\n",
       "    </tr>\n",
       "    <tr>\n",
       "      <th>46337</th>\n",
       "      <td>Malta</td>\n",
       "      <td>2022-06</td>\n",
       "      <td>Solar photovoltaic</td>\n",
       "      <td>NaN</td>\n",
       "    </tr>\n",
       "  </tbody>\n",
       "</table>\n",
       "<p>289 rows × 4 columns</p>\n",
       "</div>"
      ],
      "text/plain": [
       "           country time-period                      fuel-type  value(GWH)\n",
       "1729   Netherlands     2017-07    Coal and manufactured gases         NaN\n",
       "9537   Netherlands     2017-07  Combustible fuels - renewable         NaN\n",
       "11938        Malta     2017-02                    Natural gas         NaN\n",
       "11939        Malta     2017-03                    Natural gas         NaN\n",
       "11940        Malta     2017-04                    Natural gas         NaN\n",
       "...            ...         ...                            ...         ...\n",
       "46333        Malta     2022-02             Solar photovoltaic         NaN\n",
       "46334        Malta     2022-03             Solar photovoltaic         NaN\n",
       "46335        Malta     2022-04             Solar photovoltaic         NaN\n",
       "46336        Malta     2022-05             Solar photovoltaic         NaN\n",
       "46337        Malta     2022-06             Solar photovoltaic         NaN\n",
       "\n",
       "[289 rows x 4 columns]"
      ]
     },
     "execution_count": 122,
     "metadata": {},
     "output_type": "execute_result"
    }
   ],
   "source": [
    "elect_production[elect_production['value(GWH)'].isnull()]"
   ]
  },
  {
   "cell_type": "code",
   "execution_count": 123,
   "id": "3e594b82",
   "metadata": {},
   "outputs": [],
   "source": [
    "# to handle null and negative values in 'value(GWH)' we have decided to replace them with '0'\n",
    "elect_production.loc[(elect_production['value(GWH)'].isnull() | (elect_production['value(GWH)']<0)), 'value(GWH)'] = 0"
   ]
  },
  {
   "cell_type": "code",
   "execution_count": 124,
   "id": "784a3ded",
   "metadata": {},
   "outputs": [
    {
     "data": {
      "text/html": [
       "<div>\n",
       "<style scoped>\n",
       "    .dataframe tbody tr th:only-of-type {\n",
       "        vertical-align: middle;\n",
       "    }\n",
       "\n",
       "    .dataframe tbody tr th {\n",
       "        vertical-align: top;\n",
       "    }\n",
       "\n",
       "    .dataframe thead th {\n",
       "        text-align: right;\n",
       "    }\n",
       "</style>\n",
       "<table border=\"1\" class=\"dataframe\">\n",
       "  <thead>\n",
       "    <tr style=\"text-align: right;\">\n",
       "      <th></th>\n",
       "      <th>country</th>\n",
       "      <th>time-period</th>\n",
       "      <th>fuel-type</th>\n",
       "      <th>value(GWH)</th>\n",
       "    </tr>\n",
       "  </thead>\n",
       "  <tbody>\n",
       "  </tbody>\n",
       "</table>\n",
       "</div>"
      ],
      "text/plain": [
       "Empty DataFrame\n",
       "Columns: [country, time-period, fuel-type, value(GWH)]\n",
       "Index: []"
      ]
     },
     "execution_count": 124,
     "metadata": {},
     "output_type": "execute_result"
    }
   ],
   "source": [
    "# Check for duplicate values\n",
    "dups = elect_production[elect_production.duplicated()]\n",
    "dups"
   ]
  },
  {
   "cell_type": "markdown",
   "id": "ab9b3600",
   "metadata": {},
   "source": [
    "### There is no duplicated rows"
   ]
  },
  {
   "cell_type": "code",
   "execution_count": 125,
   "id": "4251ef9b",
   "metadata": {},
   "outputs": [
    {
     "data": {
      "text/html": [
       "<div>\n",
       "<style scoped>\n",
       "    .dataframe tbody tr th:only-of-type {\n",
       "        vertical-align: middle;\n",
       "    }\n",
       "\n",
       "    .dataframe tbody tr th {\n",
       "        vertical-align: top;\n",
       "    }\n",
       "\n",
       "    .dataframe thead th {\n",
       "        text-align: right;\n",
       "    }\n",
       "</style>\n",
       "<table border=\"1\" class=\"dataframe\">\n",
       "  <thead>\n",
       "    <tr style=\"text-align: right;\">\n",
       "      <th></th>\n",
       "      <th>country</th>\n",
       "      <th>time-period</th>\n",
       "      <th>fuel-type</th>\n",
       "      <th>value(GWH)</th>\n",
       "    </tr>\n",
       "  </thead>\n",
       "  <tbody>\n",
       "    <tr>\n",
       "      <th>0</th>\n",
       "      <td>Albania</td>\n",
       "      <td>2018-01</td>\n",
       "      <td>Coal and manufactured gases</td>\n",
       "      <td>0.0</td>\n",
       "    </tr>\n",
       "    <tr>\n",
       "      <th>1</th>\n",
       "      <td>Albania</td>\n",
       "      <td>2018-02</td>\n",
       "      <td>Coal and manufactured gases</td>\n",
       "      <td>0.0</td>\n",
       "    </tr>\n",
       "    <tr>\n",
       "      <th>2</th>\n",
       "      <td>Albania</td>\n",
       "      <td>2018-03</td>\n",
       "      <td>Coal and manufactured gases</td>\n",
       "      <td>0.0</td>\n",
       "    </tr>\n",
       "    <tr>\n",
       "      <th>3</th>\n",
       "      <td>Albania</td>\n",
       "      <td>2018-04</td>\n",
       "      <td>Coal and manufactured gases</td>\n",
       "      <td>0.0</td>\n",
       "    </tr>\n",
       "    <tr>\n",
       "      <th>4</th>\n",
       "      <td>Albania</td>\n",
       "      <td>2018-05</td>\n",
       "      <td>Coal and manufactured gases</td>\n",
       "      <td>0.0</td>\n",
       "    </tr>\n",
       "    <tr>\n",
       "      <th>...</th>\n",
       "      <td>...</td>\n",
       "      <td>...</td>\n",
       "      <td>...</td>\n",
       "      <td>...</td>\n",
       "    </tr>\n",
       "    <tr>\n",
       "      <th>52342</th>\n",
       "      <td>United Kingdom</td>\n",
       "      <td>2020-06</td>\n",
       "      <td>Other fuels n.e.c.</td>\n",
       "      <td>0.0</td>\n",
       "    </tr>\n",
       "    <tr>\n",
       "      <th>52343</th>\n",
       "      <td>United Kingdom</td>\n",
       "      <td>2020-07</td>\n",
       "      <td>Other fuels n.e.c.</td>\n",
       "      <td>0.0</td>\n",
       "    </tr>\n",
       "    <tr>\n",
       "      <th>52344</th>\n",
       "      <td>United Kingdom</td>\n",
       "      <td>2020-08</td>\n",
       "      <td>Other fuels n.e.c.</td>\n",
       "      <td>0.0</td>\n",
       "    </tr>\n",
       "    <tr>\n",
       "      <th>52345</th>\n",
       "      <td>United Kingdom</td>\n",
       "      <td>2020-09</td>\n",
       "      <td>Other fuels n.e.c.</td>\n",
       "      <td>0.0</td>\n",
       "    </tr>\n",
       "    <tr>\n",
       "      <th>52346</th>\n",
       "      <td>United Kingdom</td>\n",
       "      <td>2020-10</td>\n",
       "      <td>Other fuels n.e.c.</td>\n",
       "      <td>0.0</td>\n",
       "    </tr>\n",
       "  </tbody>\n",
       "</table>\n",
       "<p>52347 rows × 4 columns</p>\n",
       "</div>"
      ],
      "text/plain": [
       "              country time-period                    fuel-type  value(GWH)\n",
       "0             Albania     2018-01  Coal and manufactured gases         0.0\n",
       "1             Albania     2018-02  Coal and manufactured gases         0.0\n",
       "2             Albania     2018-03  Coal and manufactured gases         0.0\n",
       "3             Albania     2018-04  Coal and manufactured gases         0.0\n",
       "4             Albania     2018-05  Coal and manufactured gases         0.0\n",
       "...               ...         ...                          ...         ...\n",
       "52342  United Kingdom     2020-06           Other fuels n.e.c.         0.0\n",
       "52343  United Kingdom     2020-07           Other fuels n.e.c.         0.0\n",
       "52344  United Kingdom     2020-08           Other fuels n.e.c.         0.0\n",
       "52345  United Kingdom     2020-09           Other fuels n.e.c.         0.0\n",
       "52346  United Kingdom     2020-10           Other fuels n.e.c.         0.0\n",
       "\n",
       "[52347 rows x 4 columns]"
      ]
     },
     "execution_count": 125,
     "metadata": {},
     "output_type": "execute_result"
    }
   ],
   "source": [
    "# reset index for new dataset\n",
    "elect_production.reset_index(inplace=True, drop=True)\n",
    "elect_production"
   ]
  },
  {
   "cell_type": "markdown",
   "id": "ca60865b",
   "metadata": {},
   "source": [
    "## The final form of the 'elect_production' data frame will be as follow"
   ]
  },
  {
   "cell_type": "code",
   "execution_count": 126,
   "id": "dd8978a1",
   "metadata": {},
   "outputs": [
    {
     "data": {
      "text/html": [
       "<div>\n",
       "<style scoped>\n",
       "    .dataframe tbody tr th:only-of-type {\n",
       "        vertical-align: middle;\n",
       "    }\n",
       "\n",
       "    .dataframe tbody tr th {\n",
       "        vertical-align: top;\n",
       "    }\n",
       "\n",
       "    .dataframe thead th {\n",
       "        text-align: right;\n",
       "    }\n",
       "</style>\n",
       "<table border=\"1\" class=\"dataframe\">\n",
       "  <thead>\n",
       "    <tr style=\"text-align: right;\">\n",
       "      <th></th>\n",
       "      <th>country</th>\n",
       "      <th>time-period</th>\n",
       "      <th>fuel-type</th>\n",
       "      <th>value(GWH)</th>\n",
       "    </tr>\n",
       "  </thead>\n",
       "  <tbody>\n",
       "    <tr>\n",
       "      <th>0</th>\n",
       "      <td>Albania</td>\n",
       "      <td>2018-01</td>\n",
       "      <td>Coal and manufactured gases</td>\n",
       "      <td>0.0</td>\n",
       "    </tr>\n",
       "    <tr>\n",
       "      <th>1</th>\n",
       "      <td>Albania</td>\n",
       "      <td>2018-02</td>\n",
       "      <td>Coal and manufactured gases</td>\n",
       "      <td>0.0</td>\n",
       "    </tr>\n",
       "    <tr>\n",
       "      <th>2</th>\n",
       "      <td>Albania</td>\n",
       "      <td>2018-03</td>\n",
       "      <td>Coal and manufactured gases</td>\n",
       "      <td>0.0</td>\n",
       "    </tr>\n",
       "    <tr>\n",
       "      <th>3</th>\n",
       "      <td>Albania</td>\n",
       "      <td>2018-04</td>\n",
       "      <td>Coal and manufactured gases</td>\n",
       "      <td>0.0</td>\n",
       "    </tr>\n",
       "    <tr>\n",
       "      <th>4</th>\n",
       "      <td>Albania</td>\n",
       "      <td>2018-05</td>\n",
       "      <td>Coal and manufactured gases</td>\n",
       "      <td>0.0</td>\n",
       "    </tr>\n",
       "  </tbody>\n",
       "</table>\n",
       "</div>"
      ],
      "text/plain": [
       "   country time-period                    fuel-type  value(GWH)\n",
       "0  Albania     2018-01  Coal and manufactured gases         0.0\n",
       "1  Albania     2018-02  Coal and manufactured gases         0.0\n",
       "2  Albania     2018-03  Coal and manufactured gases         0.0\n",
       "3  Albania     2018-04  Coal and manufactured gases         0.0\n",
       "4  Albania     2018-05  Coal and manufactured gases         0.0"
      ]
     },
     "execution_count": 126,
     "metadata": {},
     "output_type": "execute_result"
    }
   ],
   "source": [
    "elect_production.head()"
   ]
  },
  {
   "cell_type": "code",
   "execution_count": 127,
   "id": "08eca47b",
   "metadata": {},
   "outputs": [
    {
     "data": {
      "text/plain": [
       "(52347, 4)"
      ]
     },
     "execution_count": 127,
     "metadata": {},
     "output_type": "execute_result"
    }
   ],
   "source": [
    "elect_production.shape"
   ]
  },
  {
   "cell_type": "code",
   "execution_count": 128,
   "id": "10b4534b",
   "metadata": {},
   "outputs": [
    {
     "name": "stdout",
     "output_type": "stream",
     "text": [
      "<class 'pandas.core.frame.DataFrame'>\n",
      "RangeIndex: 52347 entries, 0 to 52346\n",
      "Data columns (total 4 columns):\n",
      " #   Column       Non-Null Count  Dtype  \n",
      "---  ------       --------------  -----  \n",
      " 0   country      52347 non-null  object \n",
      " 1   time-period  52347 non-null  object \n",
      " 2   fuel-type    52347 non-null  object \n",
      " 3   value(GWH)   52347 non-null  float64\n",
      "dtypes: float64(1), object(3)\n",
      "memory usage: 1.6+ MB\n"
     ]
    }
   ],
   "source": [
    "elect_production.info()"
   ]
  },
  {
   "cell_type": "code",
   "execution_count": 129,
   "id": "cda20797",
   "metadata": {},
   "outputs": [
    {
     "data": {
      "text/html": [
       "<div>\n",
       "<style scoped>\n",
       "    .dataframe tbody tr th:only-of-type {\n",
       "        vertical-align: middle;\n",
       "    }\n",
       "\n",
       "    .dataframe tbody tr th {\n",
       "        vertical-align: top;\n",
       "    }\n",
       "\n",
       "    .dataframe thead th {\n",
       "        text-align: right;\n",
       "    }\n",
       "</style>\n",
       "<table border=\"1\" class=\"dataframe\">\n",
       "  <thead>\n",
       "    <tr style=\"text-align: right;\">\n",
       "      <th></th>\n",
       "      <th>value(GWH)</th>\n",
       "    </tr>\n",
       "  </thead>\n",
       "  <tbody>\n",
       "    <tr>\n",
       "      <th>count</th>\n",
       "      <td>52347.000000</td>\n",
       "    </tr>\n",
       "    <tr>\n",
       "      <th>mean</th>\n",
       "      <td>1128.672927</td>\n",
       "    </tr>\n",
       "    <tr>\n",
       "      <th>std</th>\n",
       "      <td>3918.406778</td>\n",
       "    </tr>\n",
       "    <tr>\n",
       "      <th>min</th>\n",
       "      <td>0.000000</td>\n",
       "    </tr>\n",
       "    <tr>\n",
       "      <th>25%</th>\n",
       "      <td>0.000000</td>\n",
       "    </tr>\n",
       "    <tr>\n",
       "      <th>50%</th>\n",
       "      <td>16.895000</td>\n",
       "    </tr>\n",
       "    <tr>\n",
       "      <th>75%</th>\n",
       "      <td>472.303000</td>\n",
       "    </tr>\n",
       "    <tr>\n",
       "      <th>max</th>\n",
       "      <td>57338.858000</td>\n",
       "    </tr>\n",
       "  </tbody>\n",
       "</table>\n",
       "</div>"
      ],
      "text/plain": [
       "         value(GWH)\n",
       "count  52347.000000\n",
       "mean    1128.672927\n",
       "std     3918.406778\n",
       "min        0.000000\n",
       "25%        0.000000\n",
       "50%       16.895000\n",
       "75%      472.303000\n",
       "max    57338.858000"
      ]
     },
     "execution_count": 129,
     "metadata": {},
     "output_type": "execute_result"
    }
   ],
   "source": [
    "elect_production.describe()"
   ]
  },
  {
   "cell_type": "code",
   "execution_count": 130,
   "id": "484685c8",
   "metadata": {},
   "outputs": [
    {
     "data": {
      "text/plain": [
       "<AxesSubplot:ylabel='Frequency'>"
      ]
     },
     "execution_count": 130,
     "metadata": {},
     "output_type": "execute_result"
    },
    {
     "data": {
      "image/png": "[encoded data removed]",
      "text/plain": [
       "<Figure size 432x288 with 1 Axes>"
      ]
     },
     "metadata": {
      "needs_background": "light"
     },
     "output_type": "display_data"
    }
   ],
   "source": [
    "elect_production['value(GWH)'].plot.hist(bins = 100)"
   ]
  },
  {
   "cell_type": "code",
   "execution_count": 131,
   "id": "9f118e9b",
   "metadata": {},
   "outputs": [],
   "source": [
    "# Save data set in pickle and csv formats\n",
    "elect_production.to_csv(os.path.join(path, '2 Data set', 'Modified', 'elect_production.csv'))\n",
    "elect_production.to_pickle(os.path.join(path, '2 Data set', 'Modified', 'elect_production.pkl'))"
   ]
  },
  {
   "cell_type": "code",
   "execution_count": null,
   "id": "293102bf",
   "metadata": {},
   "outputs": [],
   "source": []
  }
 ],
 "metadata": {
  "kernelspec": {
   "display_name": "Python 3 (ipykernel)",
   "language": "python",
   "name": "python3"
  },
  "language_info": {
   "codemirror_mode": {
    "name": "ipython",
    "version": 3
   },
   "file_extension": ".py",
   "mimetype": "text/x-python",
   "name": "python",
   "nbconvert_exporter": "python",
   "pygments_lexer": "ipython3",
   "version": "3.9.12"
  }
 },
 "nbformat": 4,
 "nbformat_minor": 5
}
