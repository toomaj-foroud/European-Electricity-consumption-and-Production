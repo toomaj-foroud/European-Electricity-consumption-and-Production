{
 "cells": [
  {
   "cell_type": "markdown",
   "id": "0045f65d",
   "metadata": {},
   "source": [
    "# Load libraries and data sets"
   ]
  },
  {
   "cell_type": "code",
   "execution_count": 1,
   "id": "371b7e95",
   "metadata": {},
   "outputs": [],
   "source": [
    "# Load libraries\n",
    "import pandas as pd\n",
    "import numpy as np\n",
    "import os\n",
    "import matplotlib.pyplot as plt"
   ]
  },
  {
   "cell_type": "code",
   "execution_count": 24,
   "id": "f964b30c",
   "metadata": {},
   "outputs": [
    {
     "data": {
      "text/html": [
       "<div>\n",
       "<style scoped>\n",
       "    .dataframe tbody tr th:only-of-type {\n",
       "        vertical-align: middle;\n",
       "    }\n",
       "\n",
       "    .dataframe tbody tr th {\n",
       "        vertical-align: top;\n",
       "    }\n",
       "\n",
       "    .dataframe thead th {\n",
       "        text-align: right;\n",
       "    }\n",
       "</style>\n",
       "<table border=\"1\" class=\"dataframe\">\n",
       "  <thead>\n",
       "    <tr style=\"text-align: right;\">\n",
       "      <th></th>\n",
       "      <th>DATAFLOW</th>\n",
       "      <th>LAST UPDATE</th>\n",
       "      <th>freq</th>\n",
       "      <th>nrg_bal</th>\n",
       "      <th>siec</th>\n",
       "      <th>unit</th>\n",
       "      <th>geo</th>\n",
       "      <th>TIME_PERIOD</th>\n",
       "      <th>OBS_VALUE</th>\n",
       "      <th>OBS_FLAG</th>\n",
       "    </tr>\n",
       "  </thead>\n",
       "  <tbody>\n",
       "    <tr>\n",
       "      <th>0</th>\n",
       "      <td>ESTAT:NRG_CB_EM(1.0)</td>\n",
       "      <td>10/08/22 23:00:00</td>\n",
       "      <td>M</td>\n",
       "      <td>AIM</td>\n",
       "      <td>E7000</td>\n",
       "      <td>GWH</td>\n",
       "      <td>AL</td>\n",
       "      <td>2018-01</td>\n",
       "      <td>588.340</td>\n",
       "      <td>NaN</td>\n",
       "    </tr>\n",
       "    <tr>\n",
       "      <th>1</th>\n",
       "      <td>ESTAT:NRG_CB_EM(1.0)</td>\n",
       "      <td>10/08/22 23:00:00</td>\n",
       "      <td>M</td>\n",
       "      <td>AIM</td>\n",
       "      <td>E7000</td>\n",
       "      <td>GWH</td>\n",
       "      <td>AL</td>\n",
       "      <td>2018-02</td>\n",
       "      <td>542.046</td>\n",
       "      <td>NaN</td>\n",
       "    </tr>\n",
       "    <tr>\n",
       "      <th>2</th>\n",
       "      <td>ESTAT:NRG_CB_EM(1.0)</td>\n",
       "      <td>10/08/22 23:00:00</td>\n",
       "      <td>M</td>\n",
       "      <td>AIM</td>\n",
       "      <td>E7000</td>\n",
       "      <td>GWH</td>\n",
       "      <td>AL</td>\n",
       "      <td>2018-03</td>\n",
       "      <td>564.343</td>\n",
       "      <td>NaN</td>\n",
       "    </tr>\n",
       "    <tr>\n",
       "      <th>3</th>\n",
       "      <td>ESTAT:NRG_CB_EM(1.0)</td>\n",
       "      <td>10/08/22 23:00:00</td>\n",
       "      <td>M</td>\n",
       "      <td>AIM</td>\n",
       "      <td>E7000</td>\n",
       "      <td>GWH</td>\n",
       "      <td>AL</td>\n",
       "      <td>2018-04</td>\n",
       "      <td>465.565</td>\n",
       "      <td>NaN</td>\n",
       "    </tr>\n",
       "    <tr>\n",
       "      <th>4</th>\n",
       "      <td>ESTAT:NRG_CB_EM(1.0)</td>\n",
       "      <td>10/08/22 23:00:00</td>\n",
       "      <td>M</td>\n",
       "      <td>AIM</td>\n",
       "      <td>E7000</td>\n",
       "      <td>GWH</td>\n",
       "      <td>AL</td>\n",
       "      <td>2018-05</td>\n",
       "      <td>476.886</td>\n",
       "      <td>NaN</td>\n",
       "    </tr>\n",
       "  </tbody>\n",
       "</table>\n",
       "</div>"
      ],
      "text/plain": [
       "               DATAFLOW        LAST UPDATE freq nrg_bal   siec unit geo  \\\n",
       "0  ESTAT:NRG_CB_EM(1.0)  10/08/22 23:00:00    M     AIM  E7000  GWH  AL   \n",
       "1  ESTAT:NRG_CB_EM(1.0)  10/08/22 23:00:00    M     AIM  E7000  GWH  AL   \n",
       "2  ESTAT:NRG_CB_EM(1.0)  10/08/22 23:00:00    M     AIM  E7000  GWH  AL   \n",
       "3  ESTAT:NRG_CB_EM(1.0)  10/08/22 23:00:00    M     AIM  E7000  GWH  AL   \n",
       "4  ESTAT:NRG_CB_EM(1.0)  10/08/22 23:00:00    M     AIM  E7000  GWH  AL   \n",
       "\n",
       "  TIME_PERIOD  OBS_VALUE OBS_FLAG  \n",
       "0     2018-01    588.340      NaN  \n",
       "1     2018-02    542.046      NaN  \n",
       "2     2018-03    564.343      NaN  \n",
       "3     2018-04    465.565      NaN  \n",
       "4     2018-05    476.886      NaN  "
      ]
     },
     "execution_count": 24,
     "metadata": {},
     "output_type": "execute_result"
    }
   ],
   "source": [
    "# Load data set \"Supply, transformation and consumption of electricity\"\n",
    "\n",
    "path = r'G:\\Career Foundery\\CFundry-6'\n",
    "elect_balance = pd.read_csv(os.path.join(path, '2 Data set', 'Original', 'nrg_cb_em_linear.csv','nrg_cb_em_linear.csv'), index_col=False)\n",
    "elect_balance.head()"
   ]
  },
  {
   "cell_type": "code",
   "execution_count": 25,
   "id": "5105d130",
   "metadata": {},
   "outputs": [],
   "source": [
    "# remove redundant columns\n",
    "elect_balance.drop(columns=['DATAFLOW', 'LAST UPDATE', 'freq', 'siec', 'unit', 'OBS_FLAG'], axis=1, inplace=True)\n"
   ]
  },
  {
   "cell_type": "code",
   "execution_count": 26,
   "id": "ba155da4",
   "metadata": {},
   "outputs": [],
   "source": [
    "# define new names for columns\n",
    "elect_balance.rename(columns={'geo':'country-code', 'TIME_PERIOD':'time-period','nrg_bal':'energy-balance', 'OBS_VALUE':'value(GWH)'}, inplace=True)\n"
   ]
  },
  {
   "cell_type": "code",
   "execution_count": 27,
   "id": "35e795bb",
   "metadata": {},
   "outputs": [
    {
     "data": {
      "text/plain": [
       "41"
      ]
     },
     "execution_count": 27,
     "metadata": {},
     "output_type": "execute_result"
    }
   ],
   "source": [
    "# define the codes of countries and fuels\n",
    "country_codes = {'SK':'Slovakia', 'FI':'Finland', 'SE':'Sweden', 'IS':'Iceland','NO':'Norway', 'UK':'United Kingdom',\n",
    "                 'ME': 'Montenegro','MK':'North Macedonia', 'GE':'Georgia', 'EU27_2020':'European Union - 27 countries (from 2020)', \n",
    "                 'AL':'Albania', 'RS':'Serbia', 'TR':'Turkey', 'BA':'Bosnia and Herzegovina', 'MD':'Moldova', 'UA':'Ukraine',  \n",
    "                 'EA19':'Euro area - 19 countries (from 2015)', 'BE':'Belgium', 'BG':'Bulgaria', 'CZ':'Czechia', 'DK':'Denmark',\n",
    "                 'DE':'Germany', 'EE':'Estonia', 'IE':'Ireland', 'EL':'Greece', 'ES': 'Spain', 'FR':'France', 'HR':'Croatia',\n",
    "                 'IT':'Italy', 'CY':'Cyprus', 'LV':'Latvia', 'LT':'Lithuania', 'LU':'Luxembourg', 'HU':'Hungary', 'MT':'Malta',\n",
    "                 'NL':'Netherlands', 'AT':'Austria', 'PL':'Poland', 'PT':'Portugal', 'RO':'Romania', 'SI':'Slovenia'}\n",
    "len(country_codes)"
   ]
  },
  {
   "cell_type": "code",
   "execution_count": 28,
   "id": "2dbdd4c0",
   "metadata": {},
   "outputs": [
    {
     "data": {
      "text/plain": [
       "7"
      ]
     },
     "execution_count": 28,
     "metadata": {},
     "output_type": "execute_result"
    }
   ],
   "source": [
    "# define the codes of energy balance\n",
    "energy_code = { 'EXP':'Exports', 'EXP_TO_EU':'Exports to EU', 'TI_EHG_EPS':'Transformation input',\n",
    "               'DL':'Distribution losses', 'AIM':'Internal market', 'IMP':'Imports', 'IMP_FROM_EU':'Imports from EU'}\n",
    "len(energy_code)"
   ]
  },
  {
   "cell_type": "code",
   "execution_count": 29,
   "id": "c81d199c",
   "metadata": {},
   "outputs": [],
   "source": [
    "# replace country abbreviations by full name\n",
    "elect_balance['country'] = list(map(country_codes.get, elect_balance['country-code'].tolist()))"
   ]
  },
  {
   "cell_type": "code",
   "execution_count": 30,
   "id": "5ef47518",
   "metadata": {},
   "outputs": [],
   "source": [
    "# replace energy balance abbreviations by full name\n",
    "elect_balance['energy-balance'] = list(map(energy_code.get, elect_balance['energy-balance'].tolist()))"
   ]
  },
  {
   "cell_type": "code",
   "execution_count": 32,
   "id": "f8246851",
   "metadata": {},
   "outputs": [],
   "source": [
    "# remove column 'country-code'\n",
    "elect_balance.drop(columns=['country-code'], axis=1, inplace=True)"
   ]
  },
  {
   "cell_type": "code",
   "execution_count": 33,
   "id": "cee3adf7",
   "metadata": {},
   "outputs": [
    {
     "data": {
      "text/html": [
       "<div>\n",
       "<style scoped>\n",
       "    .dataframe tbody tr th:only-of-type {\n",
       "        vertical-align: middle;\n",
       "    }\n",
       "\n",
       "    .dataframe tbody tr th {\n",
       "        vertical-align: top;\n",
       "    }\n",
       "\n",
       "    .dataframe thead th {\n",
       "        text-align: right;\n",
       "    }\n",
       "</style>\n",
       "<table border=\"1\" class=\"dataframe\">\n",
       "  <thead>\n",
       "    <tr style=\"text-align: right;\">\n",
       "      <th></th>\n",
       "      <th>country</th>\n",
       "      <th>time-period</th>\n",
       "      <th>energy-balance</th>\n",
       "      <th>value(GWH)</th>\n",
       "    </tr>\n",
       "  </thead>\n",
       "  <tbody>\n",
       "    <tr>\n",
       "      <th>0</th>\n",
       "      <td>Albania</td>\n",
       "      <td>2018-01</td>\n",
       "      <td>Internal market</td>\n",
       "      <td>588.340</td>\n",
       "    </tr>\n",
       "    <tr>\n",
       "      <th>1</th>\n",
       "      <td>Albania</td>\n",
       "      <td>2018-02</td>\n",
       "      <td>Internal market</td>\n",
       "      <td>542.046</td>\n",
       "    </tr>\n",
       "    <tr>\n",
       "      <th>2</th>\n",
       "      <td>Albania</td>\n",
       "      <td>2018-03</td>\n",
       "      <td>Internal market</td>\n",
       "      <td>564.343</td>\n",
       "    </tr>\n",
       "    <tr>\n",
       "      <th>3</th>\n",
       "      <td>Albania</td>\n",
       "      <td>2018-04</td>\n",
       "      <td>Internal market</td>\n",
       "      <td>465.565</td>\n",
       "    </tr>\n",
       "    <tr>\n",
       "      <th>4</th>\n",
       "      <td>Albania</td>\n",
       "      <td>2018-05</td>\n",
       "      <td>Internal market</td>\n",
       "      <td>476.886</td>\n",
       "    </tr>\n",
       "  </tbody>\n",
       "</table>\n",
       "</div>"
      ],
      "text/plain": [
       "   country time-period   energy-balance  value(GWH)\n",
       "0  Albania     2018-01  Internal market     588.340\n",
       "1  Albania     2018-02  Internal market     542.046\n",
       "2  Albania     2018-03  Internal market     564.343\n",
       "3  Albania     2018-04  Internal market     465.565\n",
       "4  Albania     2018-05  Internal market     476.886"
      ]
     },
     "execution_count": 33,
     "metadata": {},
     "output_type": "execute_result"
    }
   ],
   "source": [
    "# put columns in order\n",
    "elect_balance = elect_balance[['country', 'time-period', 'energy-balance', 'value(GWH)']]\n",
    "elect_balance.head()"
   ]
  },
  {
   "cell_type": "code",
   "execution_count": 34,
   "id": "8458d587",
   "metadata": {},
   "outputs": [
    {
     "data": {
      "text/plain": [
       "(28423, 4)"
      ]
     },
     "execution_count": 34,
     "metadata": {},
     "output_type": "execute_result"
    }
   ],
   "source": [
    "# shape of the dataset\n",
    "elect_balance.shape"
   ]
  },
  {
   "cell_type": "code",
   "execution_count": 35,
   "id": "cb199119",
   "metadata": {},
   "outputs": [
    {
     "name": "stdout",
     "output_type": "stream",
     "text": [
      "<class 'pandas.core.frame.DataFrame'>\n",
      "RangeIndex: 28423 entries, 0 to 28422\n",
      "Data columns (total 4 columns):\n",
      " #   Column          Non-Null Count  Dtype  \n",
      "---  ------          --------------  -----  \n",
      " 0   country         28423 non-null  object \n",
      " 1   time-period     28423 non-null  object \n",
      " 2   energy-balance  28423 non-null  object \n",
      " 3   value(GWH)      28354 non-null  float64\n",
      "dtypes: float64(1), object(3)\n",
      "memory usage: 888.3+ KB\n"
     ]
    }
   ],
   "source": [
    "# data type of attributes\n",
    "elect_balance.info()"
   ]
  },
  {
   "cell_type": "code",
   "execution_count": 37,
   "id": "57072fae",
   "metadata": {},
   "outputs": [
    {
     "name": "stdout",
     "output_type": "stream",
     "text": [
      "country doesn't contain mixed data types\n",
      "time-period doesn't contain mixed data types\n",
      "energy-balance doesn't contain mixed data types\n",
      "value(GWH) doesn't contain mixed data types\n"
     ]
    }
   ],
   "source": [
    "# check for mixed data type in df_ords\n",
    "for col in elect_balance.columns.tolist():\n",
    "  weird = (elect_balance[[col]].applymap(type) != elect_balance[[col]].iloc[0].apply(type)).any(axis = 1)\n",
    "  if len (elect_balance[weird]) > 0:\n",
    "    print (col + ' contains mixed data types')\n",
    "  else:\n",
    "    print (col + ' doesn\\'t contain mixed data types')"
   ]
  },
  {
   "cell_type": "markdown",
   "id": "fcb33256",
   "metadata": {},
   "source": [
    "### There is no mixed data type in this dataset. But we have observed 69 null values in 'value(GWH)'"
   ]
  },
  {
   "cell_type": "code",
   "execution_count": 38,
   "id": "344c74fe",
   "metadata": {},
   "outputs": [
    {
     "data": {
      "text/html": [
       "<div>\n",
       "<style scoped>\n",
       "    .dataframe tbody tr th:only-of-type {\n",
       "        vertical-align: middle;\n",
       "    }\n",
       "\n",
       "    .dataframe tbody tr th {\n",
       "        vertical-align: top;\n",
       "    }\n",
       "\n",
       "    .dataframe thead th {\n",
       "        text-align: right;\n",
       "    }\n",
       "</style>\n",
       "<table border=\"1\" class=\"dataframe\">\n",
       "  <thead>\n",
       "    <tr style=\"text-align: right;\">\n",
       "      <th></th>\n",
       "      <th>value(GWH)</th>\n",
       "    </tr>\n",
       "  </thead>\n",
       "  <tbody>\n",
       "    <tr>\n",
       "      <th>count</th>\n",
       "      <td>28354.000000</td>\n",
       "    </tr>\n",
       "    <tr>\n",
       "      <th>mean</th>\n",
       "      <td>5046.793825</td>\n",
       "    </tr>\n",
       "    <tr>\n",
       "      <th>std</th>\n",
       "      <td>20601.016433</td>\n",
       "    </tr>\n",
       "    <tr>\n",
       "      <th>min</th>\n",
       "      <td>-75.000000</td>\n",
       "    </tr>\n",
       "    <tr>\n",
       "      <th>25%</th>\n",
       "      <td>143.296250</td>\n",
       "    </tr>\n",
       "    <tr>\n",
       "      <th>50%</th>\n",
       "      <td>622.822000</td>\n",
       "    </tr>\n",
       "    <tr>\n",
       "      <th>75%</th>\n",
       "      <td>2035.903250</td>\n",
       "    </tr>\n",
       "    <tr>\n",
       "      <th>max</th>\n",
       "      <td>255910.000000</td>\n",
       "    </tr>\n",
       "  </tbody>\n",
       "</table>\n",
       "</div>"
      ],
      "text/plain": [
       "          value(GWH)\n",
       "count   28354.000000\n",
       "mean     5046.793825\n",
       "std     20601.016433\n",
       "min       -75.000000\n",
       "25%       143.296250\n",
       "50%       622.822000\n",
       "75%      2035.903250\n",
       "max    255910.000000"
      ]
     },
     "execution_count": 38,
     "metadata": {},
     "output_type": "execute_result"
    }
   ],
   "source": [
    "# Descriptive statistics\n",
    "elect_balance.describe()"
   ]
  },
  {
   "cell_type": "code",
   "execution_count": 40,
   "id": "ed72e916",
   "metadata": {},
   "outputs": [
    {
     "data": {
      "text/html": [
       "<div>\n",
       "<style scoped>\n",
       "    .dataframe tbody tr th:only-of-type {\n",
       "        vertical-align: middle;\n",
       "    }\n",
       "\n",
       "    .dataframe tbody tr th {\n",
       "        vertical-align: top;\n",
       "    }\n",
       "\n",
       "    .dataframe thead th {\n",
       "        text-align: right;\n",
       "    }\n",
       "</style>\n",
       "<table border=\"1\" class=\"dataframe\">\n",
       "  <thead>\n",
       "    <tr style=\"text-align: right;\">\n",
       "      <th></th>\n",
       "      <th>country</th>\n",
       "      <th>time-period</th>\n",
       "      <th>energy-balance</th>\n",
       "      <th>value(GWH)</th>\n",
       "    </tr>\n",
       "  </thead>\n",
       "  <tbody>\n",
       "    <tr>\n",
       "      <th>20884</th>\n",
       "      <td>Montenegro</td>\n",
       "      <td>2019-02</td>\n",
       "      <td>Imports</td>\n",
       "      <td>-75.0</td>\n",
       "    </tr>\n",
       "  </tbody>\n",
       "</table>\n",
       "</div>"
      ],
      "text/plain": [
       "          country time-period energy-balance  value(GWH)\n",
       "20884  Montenegro     2019-02        Imports       -75.0"
      ]
     },
     "execution_count": 40,
     "metadata": {},
     "output_type": "execute_result"
    }
   ],
   "source": [
    "elect_balance[elect_balance['value(GWH)']<0]"
   ]
  },
  {
   "cell_type": "markdown",
   "id": "b7eac5f1",
   "metadata": {},
   "source": [
    "### There is one negative value for elctricity balance of import type which is not logical!"
   ]
  },
  {
   "cell_type": "code",
   "execution_count": 41,
   "id": "d412e2f2",
   "metadata": {},
   "outputs": [
    {
     "data": {
      "text/plain": [
       "<AxesSubplot:ylabel='Frequency'>"
      ]
     },
     "execution_count": 41,
     "metadata": {},
     "output_type": "execute_result"
    },
    {
     "data": {
      "image/png": "[encoded data removed]",
      "text/plain": [
       "<Figure size 432x288 with 1 Axes>"
      ]
     },
     "metadata": {
      "needs_background": "light"
     },
     "output_type": "display_data"
    }
   ],
   "source": [
    "# value distributions\n",
    "elect_balance['value(GWH)'].plot.hist(bins=100)"
   ]
  },
  {
   "cell_type": "markdown",
   "id": "a90a1295",
   "metadata": {},
   "source": [
    "### There are lots of zero values in this dataset which can be an indication of unavailability of measurements or real measured zero . "
   ]
  },
  {
   "cell_type": "code",
   "execution_count": 42,
   "id": "35704813",
   "metadata": {},
   "outputs": [
    {
     "data": {
      "text/plain": [
       "Spain                                        798\n",
       "Sweden                                       798\n",
       "Ireland                                      798\n",
       "France                                       798\n",
       "Finland                                      798\n",
       "Slovenia                                     791\n",
       "Luxembourg                                   791\n",
       "Lithuania                                    791\n",
       "Austria                                      791\n",
       "Hungary                                      791\n",
       "Romania                                      791\n",
       "Netherlands                                  791\n",
       "Portugal                                     791\n",
       "Greece                                       791\n",
       "Estonia                                      791\n",
       "Norway                                       791\n",
       "Denmark                                      791\n",
       "Germany                                      791\n",
       "Czechia                                      791\n",
       "Cyprus                                       791\n",
       "Bulgaria                                     791\n",
       "Belgium                                      791\n",
       "Poland                                       791\n",
       "Latvia                                       791\n",
       "Malta                                        762\n",
       "Slovakia                                     743\n",
       "Euro area - 19 countries (from 2015)         743\n",
       "Italy                                        731\n",
       "Croatia                                      683\n",
       "Turkey                                       683\n",
       "European Union - 27 countries (from 2020)    671\n",
       "United Kingdom                               658\n",
       "North Macedonia                              611\n",
       "Iceland                                      548\n",
       "Serbia                                       539\n",
       "Bosnia and Herzegovina                       378\n",
       "Albania                                      371\n",
       "Georgia                                      364\n",
       "Ukraine                                      364\n",
       "Montenegro                                   352\n",
       "Moldova                                      203\n",
       "Name: country, dtype: int64"
      ]
     },
     "execution_count": 42,
     "metadata": {},
     "output_type": "execute_result"
    }
   ],
   "source": [
    "# value distribution for country\n",
    "elect_balance['country'].value_counts()"
   ]
  },
  {
   "cell_type": "code",
   "execution_count": 43,
   "id": "bbc7ec2c",
   "metadata": {},
   "outputs": [
    {
     "data": {
      "text/plain": [
       "Internal market         6005\n",
       "Exports                 6005\n",
       "Imports                 6005\n",
       "Transformation input    2926\n",
       "Exports to EU           2518\n",
       "Imports from EU         2518\n",
       "Distribution losses     2446\n",
       "Name: energy-balance, dtype: int64"
      ]
     },
     "execution_count": 43,
     "metadata": {},
     "output_type": "execute_result"
    }
   ],
   "source": [
    "# value distribution for energy-balance\n",
    "elect_balance['energy-balance'].value_counts()"
   ]
  },
  {
   "cell_type": "code",
   "execution_count": 45,
   "id": "ff5d418e",
   "metadata": {},
   "outputs": [
    {
     "data": {
      "text/plain": [
       "39"
      ]
     },
     "execution_count": 45,
     "metadata": {},
     "output_type": "execute_result"
    }
   ],
   "source": [
    "# remove rows related to 'EU27_2020' & 'EA19' as they are summations for contries in EU and they are not helpful in our analysis\n",
    "elect_balance.drop(elect_balance[elect_balance['country'].isin(['European Union - 27 countries (from 2020)', 'Euro area - 19 countries (from 2015)'])].index, inplace=True)\n",
    "len(set(elect_balance['country']))"
   ]
  },
  {
   "cell_type": "code",
   "execution_count": 49,
   "id": "5fdb7802",
   "metadata": {},
   "outputs": [
    {
     "data": {
      "text/html": [
       "<div>\n",
       "<style scoped>\n",
       "    .dataframe tbody tr th:only-of-type {\n",
       "        vertical-align: middle;\n",
       "    }\n",
       "\n",
       "    .dataframe tbody tr th {\n",
       "        vertical-align: top;\n",
       "    }\n",
       "\n",
       "    .dataframe thead th {\n",
       "        text-align: right;\n",
       "    }\n",
       "</style>\n",
       "<table border=\"1\" class=\"dataframe\">\n",
       "  <thead>\n",
       "    <tr style=\"text-align: right;\">\n",
       "      <th></th>\n",
       "      <th>country</th>\n",
       "      <th>time-period</th>\n",
       "      <th>energy-balance</th>\n",
       "      <th>value(GWH)</th>\n",
       "    </tr>\n",
       "  </thead>\n",
       "  <tbody>\n",
       "    <tr>\n",
       "      <th>7077</th>\n",
       "      <td>Croatia</td>\n",
       "      <td>2017-01</td>\n",
       "      <td>Distribution losses</td>\n",
       "      <td>NaN</td>\n",
       "    </tr>\n",
       "    <tr>\n",
       "      <th>7078</th>\n",
       "      <td>Croatia</td>\n",
       "      <td>2017-02</td>\n",
       "      <td>Distribution losses</td>\n",
       "      <td>NaN</td>\n",
       "    </tr>\n",
       "    <tr>\n",
       "      <th>7079</th>\n",
       "      <td>Croatia</td>\n",
       "      <td>2017-03</td>\n",
       "      <td>Distribution losses</td>\n",
       "      <td>NaN</td>\n",
       "    </tr>\n",
       "    <tr>\n",
       "      <th>7080</th>\n",
       "      <td>Croatia</td>\n",
       "      <td>2017-04</td>\n",
       "      <td>Distribution losses</td>\n",
       "      <td>NaN</td>\n",
       "    </tr>\n",
       "    <tr>\n",
       "      <th>7081</th>\n",
       "      <td>Croatia</td>\n",
       "      <td>2017-05</td>\n",
       "      <td>Distribution losses</td>\n",
       "      <td>NaN</td>\n",
       "    </tr>\n",
       "    <tr>\n",
       "      <th>...</th>\n",
       "      <td>...</td>\n",
       "      <td>...</td>\n",
       "      <td>...</td>\n",
       "      <td>...</td>\n",
       "    </tr>\n",
       "    <tr>\n",
       "      <th>7759</th>\n",
       "      <td>Netherlands</td>\n",
       "      <td>2017-10</td>\n",
       "      <td>Distribution losses</td>\n",
       "      <td>NaN</td>\n",
       "    </tr>\n",
       "    <tr>\n",
       "      <th>12763</th>\n",
       "      <td>Netherlands</td>\n",
       "      <td>2018-05</td>\n",
       "      <td>Exports</td>\n",
       "      <td>NaN</td>\n",
       "    </tr>\n",
       "    <tr>\n",
       "      <th>16241</th>\n",
       "      <td>Netherlands</td>\n",
       "      <td>2018-05</td>\n",
       "      <td>Exports to EU</td>\n",
       "      <td>NaN</td>\n",
       "    </tr>\n",
       "    <tr>\n",
       "      <th>21286</th>\n",
       "      <td>Netherlands</td>\n",
       "      <td>2018-05</td>\n",
       "      <td>Imports</td>\n",
       "      <td>NaN</td>\n",
       "    </tr>\n",
       "    <tr>\n",
       "      <th>24764</th>\n",
       "      <td>Netherlands</td>\n",
       "      <td>2018-05</td>\n",
       "      <td>Imports from EU</td>\n",
       "      <td>NaN</td>\n",
       "    </tr>\n",
       "  </tbody>\n",
       "</table>\n",
       "<p>69 rows × 4 columns</p>\n",
       "</div>"
      ],
      "text/plain": [
       "           country time-period       energy-balance  value(GWH)\n",
       "7077       Croatia     2017-01  Distribution losses         NaN\n",
       "7078       Croatia     2017-02  Distribution losses         NaN\n",
       "7079       Croatia     2017-03  Distribution losses         NaN\n",
       "7080       Croatia     2017-04  Distribution losses         NaN\n",
       "7081       Croatia     2017-05  Distribution losses         NaN\n",
       "...            ...         ...                  ...         ...\n",
       "7759   Netherlands     2017-10  Distribution losses         NaN\n",
       "12763  Netherlands     2018-05              Exports         NaN\n",
       "16241  Netherlands     2018-05        Exports to EU         NaN\n",
       "21286  Netherlands     2018-05              Imports         NaN\n",
       "24764  Netherlands     2018-05      Imports from EU         NaN\n",
       "\n",
       "[69 rows x 4 columns]"
      ]
     },
     "execution_count": 49,
     "metadata": {},
     "output_type": "execute_result"
    }
   ],
   "source": [
    "# null values \n",
    "elect_balance[elect_balance['value(GWH)'].isnull()]"
   ]
  },
  {
   "cell_type": "code",
   "execution_count": 53,
   "id": "5e4fdab1",
   "metadata": {},
   "outputs": [],
   "source": [
    "# to handle negative value and nulls we substitute them with zero\n",
    "elect_balance.loc[(elect_balance['value(GWH)'].isnull() | (elect_balance['value(GWH)']<0)),'value(GWH)']=0"
   ]
  },
  {
   "cell_type": "code",
   "execution_count": 58,
   "id": "eaf8b58d",
   "metadata": {},
   "outputs": [
    {
     "data": {
      "text/html": [
       "<div>\n",
       "<style scoped>\n",
       "    .dataframe tbody tr th:only-of-type {\n",
       "        vertical-align: middle;\n",
       "    }\n",
       "\n",
       "    .dataframe tbody tr th {\n",
       "        vertical-align: top;\n",
       "    }\n",
       "\n",
       "    .dataframe thead th {\n",
       "        text-align: right;\n",
       "    }\n",
       "</style>\n",
       "<table border=\"1\" class=\"dataframe\">\n",
       "  <thead>\n",
       "    <tr style=\"text-align: right;\">\n",
       "      <th></th>\n",
       "      <th>country</th>\n",
       "      <th>time-period</th>\n",
       "      <th>energy-balance</th>\n",
       "      <th>value(GWH)</th>\n",
       "    </tr>\n",
       "  </thead>\n",
       "  <tbody>\n",
       "  </tbody>\n",
       "</table>\n",
       "</div>"
      ],
      "text/plain": [
       "Empty DataFrame\n",
       "Columns: [country, time-period, energy-balance, value(GWH)]\n",
       "Index: []"
      ]
     },
     "execution_count": 58,
     "metadata": {},
     "output_type": "execute_result"
    }
   ],
   "source": [
    "# check for duplicates\n",
    "elect_balance[elect_balance.duplicated()]"
   ]
  },
  {
   "cell_type": "markdown",
   "id": "d98b6005",
   "metadata": {},
   "source": [
    "### There is no duplicated rows"
   ]
  },
  {
   "cell_type": "code",
   "execution_count": 59,
   "id": "8ee40013",
   "metadata": {},
   "outputs": [
    {
     "data": {
      "text/html": [
       "<div>\n",
       "<style scoped>\n",
       "    .dataframe tbody tr th:only-of-type {\n",
       "        vertical-align: middle;\n",
       "    }\n",
       "\n",
       "    .dataframe tbody tr th {\n",
       "        vertical-align: top;\n",
       "    }\n",
       "\n",
       "    .dataframe thead th {\n",
       "        text-align: right;\n",
       "    }\n",
       "</style>\n",
       "<table border=\"1\" class=\"dataframe\">\n",
       "  <thead>\n",
       "    <tr style=\"text-align: right;\">\n",
       "      <th></th>\n",
       "      <th>country</th>\n",
       "      <th>time-period</th>\n",
       "      <th>energy-balance</th>\n",
       "      <th>value(GWH)</th>\n",
       "    </tr>\n",
       "  </thead>\n",
       "  <tbody>\n",
       "    <tr>\n",
       "      <th>0</th>\n",
       "      <td>Albania</td>\n",
       "      <td>2018-01</td>\n",
       "      <td>Internal market</td>\n",
       "      <td>588.340</td>\n",
       "    </tr>\n",
       "    <tr>\n",
       "      <th>1</th>\n",
       "      <td>Albania</td>\n",
       "      <td>2018-02</td>\n",
       "      <td>Internal market</td>\n",
       "      <td>542.046</td>\n",
       "    </tr>\n",
       "    <tr>\n",
       "      <th>2</th>\n",
       "      <td>Albania</td>\n",
       "      <td>2018-03</td>\n",
       "      <td>Internal market</td>\n",
       "      <td>564.343</td>\n",
       "    </tr>\n",
       "    <tr>\n",
       "      <th>3</th>\n",
       "      <td>Albania</td>\n",
       "      <td>2018-04</td>\n",
       "      <td>Internal market</td>\n",
       "      <td>465.565</td>\n",
       "    </tr>\n",
       "    <tr>\n",
       "      <th>4</th>\n",
       "      <td>Albania</td>\n",
       "      <td>2018-05</td>\n",
       "      <td>Internal market</td>\n",
       "      <td>476.886</td>\n",
       "    </tr>\n",
       "    <tr>\n",
       "      <th>...</th>\n",
       "      <td>...</td>\n",
       "      <td>...</td>\n",
       "      <td>...</td>\n",
       "      <td>...</td>\n",
       "    </tr>\n",
       "    <tr>\n",
       "      <th>27004</th>\n",
       "      <td>United Kingdom</td>\n",
       "      <td>2020-06</td>\n",
       "      <td>Transformation input</td>\n",
       "      <td>116.476</td>\n",
       "    </tr>\n",
       "    <tr>\n",
       "      <th>27005</th>\n",
       "      <td>United Kingdom</td>\n",
       "      <td>2020-07</td>\n",
       "      <td>Transformation input</td>\n",
       "      <td>105.176</td>\n",
       "    </tr>\n",
       "    <tr>\n",
       "      <th>27006</th>\n",
       "      <td>United Kingdom</td>\n",
       "      <td>2020-08</td>\n",
       "      <td>Transformation input</td>\n",
       "      <td>130.364</td>\n",
       "    </tr>\n",
       "    <tr>\n",
       "      <th>27007</th>\n",
       "      <td>United Kingdom</td>\n",
       "      <td>2020-09</td>\n",
       "      <td>Transformation input</td>\n",
       "      <td>135.431</td>\n",
       "    </tr>\n",
       "    <tr>\n",
       "      <th>27008</th>\n",
       "      <td>United Kingdom</td>\n",
       "      <td>2020-10</td>\n",
       "      <td>Transformation input</td>\n",
       "      <td>166.673</td>\n",
       "    </tr>\n",
       "  </tbody>\n",
       "</table>\n",
       "<p>27009 rows × 4 columns</p>\n",
       "</div>"
      ],
      "text/plain": [
       "              country time-period        energy-balance  value(GWH)\n",
       "0             Albania     2018-01       Internal market     588.340\n",
       "1             Albania     2018-02       Internal market     542.046\n",
       "2             Albania     2018-03       Internal market     564.343\n",
       "3             Albania     2018-04       Internal market     465.565\n",
       "4             Albania     2018-05       Internal market     476.886\n",
       "...               ...         ...                   ...         ...\n",
       "27004  United Kingdom     2020-06  Transformation input     116.476\n",
       "27005  United Kingdom     2020-07  Transformation input     105.176\n",
       "27006  United Kingdom     2020-08  Transformation input     130.364\n",
       "27007  United Kingdom     2020-09  Transformation input     135.431\n",
       "27008  United Kingdom     2020-10  Transformation input     166.673\n",
       "\n",
       "[27009 rows x 4 columns]"
      ]
     },
     "execution_count": 59,
     "metadata": {},
     "output_type": "execute_result"
    }
   ],
   "source": [
    "# reset index for new data set\n",
    "elect_balance.reset_index(drop=True, inplace=True)\n",
    "elect_balance"
   ]
  },
  {
   "cell_type": "markdown",
   "id": "3b3df42e",
   "metadata": {},
   "source": [
    "## The final form of the 'elect_balance' data frame will be as follow"
   ]
  },
  {
   "cell_type": "code",
   "execution_count": 60,
   "id": "f9acd24d",
   "metadata": {},
   "outputs": [
    {
     "data": {
      "text/html": [
       "<div>\n",
       "<style scoped>\n",
       "    .dataframe tbody tr th:only-of-type {\n",
       "        vertical-align: middle;\n",
       "    }\n",
       "\n",
       "    .dataframe tbody tr th {\n",
       "        vertical-align: top;\n",
       "    }\n",
       "\n",
       "    .dataframe thead th {\n",
       "        text-align: right;\n",
       "    }\n",
       "</style>\n",
       "<table border=\"1\" class=\"dataframe\">\n",
       "  <thead>\n",
       "    <tr style=\"text-align: right;\">\n",
       "      <th></th>\n",
       "      <th>country</th>\n",
       "      <th>time-period</th>\n",
       "      <th>energy-balance</th>\n",
       "      <th>value(GWH)</th>\n",
       "    </tr>\n",
       "  </thead>\n",
       "  <tbody>\n",
       "    <tr>\n",
       "      <th>0</th>\n",
       "      <td>Albania</td>\n",
       "      <td>2018-01</td>\n",
       "      <td>Internal market</td>\n",
       "      <td>588.340</td>\n",
       "    </tr>\n",
       "    <tr>\n",
       "      <th>1</th>\n",
       "      <td>Albania</td>\n",
       "      <td>2018-02</td>\n",
       "      <td>Internal market</td>\n",
       "      <td>542.046</td>\n",
       "    </tr>\n",
       "    <tr>\n",
       "      <th>2</th>\n",
       "      <td>Albania</td>\n",
       "      <td>2018-03</td>\n",
       "      <td>Internal market</td>\n",
       "      <td>564.343</td>\n",
       "    </tr>\n",
       "    <tr>\n",
       "      <th>3</th>\n",
       "      <td>Albania</td>\n",
       "      <td>2018-04</td>\n",
       "      <td>Internal market</td>\n",
       "      <td>465.565</td>\n",
       "    </tr>\n",
       "    <tr>\n",
       "      <th>4</th>\n",
       "      <td>Albania</td>\n",
       "      <td>2018-05</td>\n",
       "      <td>Internal market</td>\n",
       "      <td>476.886</td>\n",
       "    </tr>\n",
       "  </tbody>\n",
       "</table>\n",
       "</div>"
      ],
      "text/plain": [
       "   country time-period   energy-balance  value(GWH)\n",
       "0  Albania     2018-01  Internal market     588.340\n",
       "1  Albania     2018-02  Internal market     542.046\n",
       "2  Albania     2018-03  Internal market     564.343\n",
       "3  Albania     2018-04  Internal market     465.565\n",
       "4  Albania     2018-05  Internal market     476.886"
      ]
     },
     "execution_count": 60,
     "metadata": {},
     "output_type": "execute_result"
    }
   ],
   "source": [
    "elect_balance.head()"
   ]
  },
  {
   "cell_type": "code",
   "execution_count": 61,
   "id": "8cda17e2",
   "metadata": {},
   "outputs": [
    {
     "data": {
      "text/plain": [
       "(27009, 4)"
      ]
     },
     "execution_count": 61,
     "metadata": {},
     "output_type": "execute_result"
    }
   ],
   "source": [
    "elect_balance.shape"
   ]
  },
  {
   "cell_type": "code",
   "execution_count": 62,
   "id": "bab738d8",
   "metadata": {},
   "outputs": [
    {
     "name": "stdout",
     "output_type": "stream",
     "text": [
      "<class 'pandas.core.frame.DataFrame'>\n",
      "RangeIndex: 27009 entries, 0 to 27008\n",
      "Data columns (total 4 columns):\n",
      " #   Column          Non-Null Count  Dtype  \n",
      "---  ------          --------------  -----  \n",
      " 0   country         27009 non-null  object \n",
      " 1   time-period     27009 non-null  object \n",
      " 2   energy-balance  27009 non-null  object \n",
      " 3   value(GWH)      27009 non-null  float64\n",
      "dtypes: float64(1), object(3)\n",
      "memory usage: 844.2+ KB\n"
     ]
    }
   ],
   "source": [
    "elect_balance.info()"
   ]
  },
  {
   "cell_type": "code",
   "execution_count": 63,
   "id": "7770f397",
   "metadata": {},
   "outputs": [
    {
     "data": {
      "text/html": [
       "<div>\n",
       "<style scoped>\n",
       "    .dataframe tbody tr th:only-of-type {\n",
       "        vertical-align: middle;\n",
       "    }\n",
       "\n",
       "    .dataframe tbody tr th {\n",
       "        vertical-align: top;\n",
       "    }\n",
       "\n",
       "    .dataframe thead th {\n",
       "        text-align: right;\n",
       "    }\n",
       "</style>\n",
       "<table border=\"1\" class=\"dataframe\">\n",
       "  <thead>\n",
       "    <tr style=\"text-align: right;\">\n",
       "      <th></th>\n",
       "      <th>value(GWH)</th>\n",
       "    </tr>\n",
       "  </thead>\n",
       "  <tbody>\n",
       "    <tr>\n",
       "      <th>count</th>\n",
       "      <td>27009.000000</td>\n",
       "    </tr>\n",
       "    <tr>\n",
       "      <th>mean</th>\n",
       "      <td>2354.252072</td>\n",
       "    </tr>\n",
       "    <tr>\n",
       "      <th>std</th>\n",
       "      <td>5950.586755</td>\n",
       "    </tr>\n",
       "    <tr>\n",
       "      <th>min</th>\n",
       "      <td>0.000000</td>\n",
       "    </tr>\n",
       "    <tr>\n",
       "      <th>25%</th>\n",
       "      <td>124.502000</td>\n",
       "    </tr>\n",
       "    <tr>\n",
       "      <th>50%</th>\n",
       "      <td>569.000000</td>\n",
       "    </tr>\n",
       "    <tr>\n",
       "      <th>75%</th>\n",
       "      <td>1629.000000</td>\n",
       "    </tr>\n",
       "    <tr>\n",
       "      <th>max</th>\n",
       "      <td>57460.000000</td>\n",
       "    </tr>\n",
       "  </tbody>\n",
       "</table>\n",
       "</div>"
      ],
      "text/plain": [
       "         value(GWH)\n",
       "count  27009.000000\n",
       "mean    2354.252072\n",
       "std     5950.586755\n",
       "min        0.000000\n",
       "25%      124.502000\n",
       "50%      569.000000\n",
       "75%     1629.000000\n",
       "max    57460.000000"
      ]
     },
     "execution_count": 63,
     "metadata": {},
     "output_type": "execute_result"
    }
   ],
   "source": [
    "elect_balance.describe()"
   ]
  },
  {
   "cell_type": "code",
   "execution_count": 64,
   "id": "0c841847",
   "metadata": {},
   "outputs": [
    {
     "data": {
      "text/plain": [
       "<AxesSubplot:ylabel='Frequency'>"
      ]
     },
     "execution_count": 64,
     "metadata": {},
     "output_type": "execute_result"
    },
    {
     "data": {
      "image/png": "[encoded data removed]",
      "text/plain": [
       "<Figure size 432x288 with 1 Axes>"
      ]
     },
     "metadata": {
      "needs_background": "light"
     },
     "output_type": "display_data"
    }
   ],
   "source": [
    "elect_balance['value(GWH)'].plot.hist(bins=50)"
   ]
  },
  {
   "cell_type": "code",
   "execution_count": 65,
   "id": "26be4ce9",
   "metadata": {},
   "outputs": [],
   "source": [
    "# Save data set in pickle and csv formats\n",
    "elect_balance.to_csv(os.path.join(path, '2 Data set', 'Modified', 'elect_balance.csv'))\n",
    "elect_balance.to_pickle(os.path.join(path, '2 Data set', 'Modified', 'elect_balance.pkl'))"
   ]
  },
  {
   "cell_type": "code",
   "execution_count": null,
   "id": "8f57f5b8",
   "metadata": {},
   "outputs": [],
   "source": []
  }
 ],
 "metadata": {
  "kernelspec": {
   "display_name": "Python 3 (ipykernel)",
   "language": "python",
   "name": "python3"
  },
  "language_info": {
   "codemirror_mode": {
    "name": "ipython",
    "version": 3
   },
   "file_extension": ".py",
   "mimetype": "text/x-python",
   "name": "python",
   "nbconvert_exporter": "python",
   "pygments_lexer": "ipython3",
   "version": "3.9.12"
  }
 },
 "nbformat": 4,
 "nbformat_minor": 5
}
