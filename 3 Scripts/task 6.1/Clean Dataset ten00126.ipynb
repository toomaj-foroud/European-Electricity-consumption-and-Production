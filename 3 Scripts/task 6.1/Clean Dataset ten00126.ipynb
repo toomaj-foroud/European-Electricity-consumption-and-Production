{
 "cells": [
  {
   "cell_type": "markdown",
   "id": "d235662d",
   "metadata": {},
   "source": [
    "# Load libraries and data sets"
   ]
  },
  {
   "cell_type": "code",
   "execution_count": 1,
   "id": "a9befa37",
   "metadata": {},
   "outputs": [],
   "source": [
    "# Load libraries\n",
    "import pandas as pd\n",
    "import numpy as np\n",
    "import os\n",
    "import matplotlib.pyplot as plt"
   ]
  },
  {
   "cell_type": "code",
   "execution_count": 2,
   "id": "c5f0fcdb",
   "metadata": {},
   "outputs": [
    {
     "data": {
      "text/html": [
       "<div>\n",
       "<style scoped>\n",
       "    .dataframe tbody tr th:only-of-type {\n",
       "        vertical-align: middle;\n",
       "    }\n",
       "\n",
       "    .dataframe tbody tr th {\n",
       "        vertical-align: top;\n",
       "    }\n",
       "\n",
       "    .dataframe thead th {\n",
       "        text-align: right;\n",
       "    }\n",
       "</style>\n",
       "<table border=\"1\" class=\"dataframe\">\n",
       "  <thead>\n",
       "    <tr style=\"text-align: right;\">\n",
       "      <th></th>\n",
       "      <th>DATAFLOW</th>\n",
       "      <th>LAST UPDATE</th>\n",
       "      <th>freq</th>\n",
       "      <th>nrg_bal</th>\n",
       "      <th>siec</th>\n",
       "      <th>unit</th>\n",
       "      <th>geo</th>\n",
       "      <th>TIME_PERIOD</th>\n",
       "      <th>OBS_VALUE</th>\n",
       "      <th>OBS_FLAG</th>\n",
       "    </tr>\n",
       "  </thead>\n",
       "  <tbody>\n",
       "    <tr>\n",
       "      <th>0</th>\n",
       "      <td>ESTAT:TEN00126(1.0)</td>\n",
       "      <td>14/04/22 11:00:00</td>\n",
       "      <td>A</td>\n",
       "      <td>FC_TRA_E</td>\n",
       "      <td>E7000</td>\n",
       "      <td>KTOE</td>\n",
       "      <td>AL</td>\n",
       "      <td>2009</td>\n",
       "      <td>0.0</td>\n",
       "      <td>NaN</td>\n",
       "    </tr>\n",
       "    <tr>\n",
       "      <th>1</th>\n",
       "      <td>ESTAT:TEN00126(1.0)</td>\n",
       "      <td>14/04/22 11:00:00</td>\n",
       "      <td>A</td>\n",
       "      <td>FC_TRA_E</td>\n",
       "      <td>E7000</td>\n",
       "      <td>KTOE</td>\n",
       "      <td>AL</td>\n",
       "      <td>2010</td>\n",
       "      <td>0.0</td>\n",
       "      <td>NaN</td>\n",
       "    </tr>\n",
       "    <tr>\n",
       "      <th>2</th>\n",
       "      <td>ESTAT:TEN00126(1.0)</td>\n",
       "      <td>14/04/22 11:00:00</td>\n",
       "      <td>A</td>\n",
       "      <td>FC_TRA_E</td>\n",
       "      <td>E7000</td>\n",
       "      <td>KTOE</td>\n",
       "      <td>AL</td>\n",
       "      <td>2011</td>\n",
       "      <td>0.0</td>\n",
       "      <td>NaN</td>\n",
       "    </tr>\n",
       "    <tr>\n",
       "      <th>3</th>\n",
       "      <td>ESTAT:TEN00126(1.0)</td>\n",
       "      <td>14/04/22 11:00:00</td>\n",
       "      <td>A</td>\n",
       "      <td>FC_TRA_E</td>\n",
       "      <td>E7000</td>\n",
       "      <td>KTOE</td>\n",
       "      <td>AL</td>\n",
       "      <td>2012</td>\n",
       "      <td>0.0</td>\n",
       "      <td>NaN</td>\n",
       "    </tr>\n",
       "    <tr>\n",
       "      <th>4</th>\n",
       "      <td>ESTAT:TEN00126(1.0)</td>\n",
       "      <td>14/04/22 11:00:00</td>\n",
       "      <td>A</td>\n",
       "      <td>FC_TRA_E</td>\n",
       "      <td>E7000</td>\n",
       "      <td>KTOE</td>\n",
       "      <td>AL</td>\n",
       "      <td>2013</td>\n",
       "      <td>0.0</td>\n",
       "      <td>NaN</td>\n",
       "    </tr>\n",
       "  </tbody>\n",
       "</table>\n",
       "</div>"
      ],
      "text/plain": [
       "              DATAFLOW        LAST UPDATE freq   nrg_bal   siec  unit geo  \\\n",
       "0  ESTAT:TEN00126(1.0)  14/04/22 11:00:00    A  FC_TRA_E  E7000  KTOE  AL   \n",
       "1  ESTAT:TEN00126(1.0)  14/04/22 11:00:00    A  FC_TRA_E  E7000  KTOE  AL   \n",
       "2  ESTAT:TEN00126(1.0)  14/04/22 11:00:00    A  FC_TRA_E  E7000  KTOE  AL   \n",
       "3  ESTAT:TEN00126(1.0)  14/04/22 11:00:00    A  FC_TRA_E  E7000  KTOE  AL   \n",
       "4  ESTAT:TEN00126(1.0)  14/04/22 11:00:00    A  FC_TRA_E  E7000  KTOE  AL   \n",
       "\n",
       "   TIME_PERIOD  OBS_VALUE  OBS_FLAG  \n",
       "0         2009        0.0       NaN  \n",
       "1         2010        0.0       NaN  \n",
       "2         2011        0.0       NaN  \n",
       "3         2012        0.0       NaN  \n",
       "4         2013        0.0       NaN  "
      ]
     },
     "execution_count": 2,
     "metadata": {},
     "output_type": "execute_result"
    }
   ],
   "source": [
    "# Load data set \"energy consumption in household sector\"\n",
    "\n",
    "path = r'G:\\Career Foundery\\CFundry-6'\n",
    "consump_transport = pd.read_csv(os.path.join(path, '2 Data set', 'Original', 'ten00126_linear.csv','ten00126_linear.csv'), index_col=False)\n",
    "consump_transport.head()"
   ]
  },
  {
   "cell_type": "code",
   "execution_count": 4,
   "id": "4b4bb255",
   "metadata": {},
   "outputs": [],
   "source": [
    "# remove redundant columns\n",
    "consump_transport.drop(['DATAFLOW', 'LAST UPDATE', 'freq', 'OBS_FLAG', 'unit'], axis=1, inplace=True)"
   ]
  },
  {
   "cell_type": "code",
   "execution_count": 5,
   "id": "d438c0bc",
   "metadata": {},
   "outputs": [],
   "source": [
    "# define the name of columns\n",
    "consump_transport.rename(columns={'geo': 'country-code', 'TIME_PERIOD': 'time-period', 'OBS_VALUE': 'value(KTOE)', 'nrg_bal': 'sector'}, inplace=True)"
   ]
  },
  {
   "cell_type": "code",
   "execution_count": 6,
   "id": "f79c917f",
   "metadata": {},
   "outputs": [
    {
     "data": {
      "text/plain": [
       "45"
      ]
     },
     "execution_count": 6,
     "metadata": {},
     "output_type": "execute_result"
    }
   ],
   "source": [
    "# define the codes of countries and fuels\n",
    "country_codes = {'SK':'Slovakia', 'FI':'Finland', 'SE':'Sweden', 'IS':'Iceland','NO':'Norway', 'UK':'United Kingdom',\n",
    "                 'ME': 'Montenegro','MK':'North Macedonia', 'GE':'Georgia', 'EU27_2020':'European Union - 27 countries (from 2020)', \n",
    "                 'AL':'Albania', 'RS':'Serbia', 'TR':'Turkey', 'BA':'Bosnia and Herzegovina', 'MD':'Moldova', 'UA':'Ukraine',  \n",
    "                 'EA19':'Euro area - 19 countries (from 2015)', 'BE':'Belgium', 'BG':'Bulgaria', 'CZ':'Czechia', 'DK':'Denmark',\n",
    "                 'DE':'Germany', 'EE':'Estonia', 'IE':'Ireland', 'EL':'Greece', 'ES': 'Spain', 'FR':'France', 'HR':'Croatia',\n",
    "                 'IT':'Italy', 'CY':'Cyprus', 'LV':'Latvia', 'LT':'Lithuania', 'LU':'Luxembourg', 'HU':'Hungary', 'MT':'Malta',\n",
    "                 'NL':'Netherlands', 'AT':'Austria', 'PL':'Poland', 'PT':'Portugal', 'RO':'Romania', 'SI':'Slovenia',\n",
    "                 'EU28':'European Union - 28 countries (2013-2020)', 'LI':'Liechtenstein', 'CH':'Switzerland',\n",
    "                 'XK':'Kosovo'}\n",
    "len(country_codes)"
   ]
  },
  {
   "cell_type": "code",
   "execution_count": 8,
   "id": "d9b912f3",
   "metadata": {},
   "outputs": [
    {
     "data": {
      "text/plain": [
       "14"
      ]
     },
     "execution_count": 8,
     "metadata": {},
     "output_type": "execute_result"
    }
   ],
   "source": [
    "# define the codes of fuels\n",
    "energy_codes = {'TOTAL':'Total', 'G3000':'Natural gas', 'O4630':'Liquefied petroleum gases', 'O4680':'Fuel oil',\n",
    "                'O4652XR5210B':'Motor gasoline (excluding biofuel portion)', 'R5300':'Biogases','E7000':'Electricity', \n",
    "                'O4671XR5220B':'Gas oil and diesel oil (excluding biofuel portion)','R5220B':'Blended biodiesels',\n",
    "                'R5210B':'Blended biogasoline', 'R5220P':'Pure biodiesels','R5290':'Other liquid biofuels', \n",
    "                'O4661XR5230B': 'Kerosene-type jet fuel (excluding biofuel portion)','R5210P':'Pure biogasoline'}\n",
    "len(energy_codes)"
   ]
  },
  {
   "cell_type": "code",
   "execution_count": 9,
   "id": "9d11f67a",
   "metadata": {},
   "outputs": [],
   "source": [
    "# define code of sectores\n",
    "sect_codes = {'FC_TRA_E':'transport'}"
   ]
  },
  {
   "cell_type": "code",
   "execution_count": 10,
   "id": "1b766a90",
   "metadata": {},
   "outputs": [],
   "source": [
    "# replace country abbreviations by full name\n",
    "consump_transport['country'] = list(map(country_codes.get, consump_transport['country-code'].tolist()))"
   ]
  },
  {
   "cell_type": "code",
   "execution_count": 11,
   "id": "bc21e61d",
   "metadata": {},
   "outputs": [],
   "source": [
    "# replace energy codes by complete name\n",
    "consump_transport['energy-type'] = list(map(energy_codes.get, consump_transport['siec'].tolist()))"
   ]
  },
  {
   "cell_type": "code",
   "execution_count": 12,
   "id": "7ff8f833",
   "metadata": {},
   "outputs": [],
   "source": [
    "# replace sector abbreviations by full name\n",
    "consump_transport['sector'] = list(map(sect_codes.get, consump_transport['sector'].tolist()))"
   ]
  },
  {
   "cell_type": "code",
   "execution_count": 13,
   "id": "20d16cbf",
   "metadata": {},
   "outputs": [],
   "source": [
    "# remove columns: siec & country\n",
    "consump_transport.drop(['siec', 'country-code'], axis=1, inplace=True)"
   ]
  },
  {
   "cell_type": "code",
   "execution_count": 14,
   "id": "f2e524d2",
   "metadata": {},
   "outputs": [
    {
     "data": {
      "text/html": [
       "<div>\n",
       "<style scoped>\n",
       "    .dataframe tbody tr th:only-of-type {\n",
       "        vertical-align: middle;\n",
       "    }\n",
       "\n",
       "    .dataframe tbody tr th {\n",
       "        vertical-align: top;\n",
       "    }\n",
       "\n",
       "    .dataframe thead th {\n",
       "        text-align: right;\n",
       "    }\n",
       "</style>\n",
       "<table border=\"1\" class=\"dataframe\">\n",
       "  <thead>\n",
       "    <tr style=\"text-align: right;\">\n",
       "      <th></th>\n",
       "      <th>country</th>\n",
       "      <th>time-period</th>\n",
       "      <th>sector</th>\n",
       "      <th>energy-type</th>\n",
       "      <th>value(KTOE)</th>\n",
       "    </tr>\n",
       "  </thead>\n",
       "  <tbody>\n",
       "    <tr>\n",
       "      <th>0</th>\n",
       "      <td>Albania</td>\n",
       "      <td>2009</td>\n",
       "      <td>transport</td>\n",
       "      <td>Electricity</td>\n",
       "      <td>0.0</td>\n",
       "    </tr>\n",
       "    <tr>\n",
       "      <th>1</th>\n",
       "      <td>Albania</td>\n",
       "      <td>2010</td>\n",
       "      <td>transport</td>\n",
       "      <td>Electricity</td>\n",
       "      <td>0.0</td>\n",
       "    </tr>\n",
       "    <tr>\n",
       "      <th>2</th>\n",
       "      <td>Albania</td>\n",
       "      <td>2011</td>\n",
       "      <td>transport</td>\n",
       "      <td>Electricity</td>\n",
       "      <td>0.0</td>\n",
       "    </tr>\n",
       "    <tr>\n",
       "      <th>3</th>\n",
       "      <td>Albania</td>\n",
       "      <td>2012</td>\n",
       "      <td>transport</td>\n",
       "      <td>Electricity</td>\n",
       "      <td>0.0</td>\n",
       "    </tr>\n",
       "    <tr>\n",
       "      <th>4</th>\n",
       "      <td>Albania</td>\n",
       "      <td>2013</td>\n",
       "      <td>transport</td>\n",
       "      <td>Electricity</td>\n",
       "      <td>0.0</td>\n",
       "    </tr>\n",
       "  </tbody>\n",
       "</table>\n",
       "</div>"
      ],
      "text/plain": [
       "   country  time-period     sector  energy-type  value(KTOE)\n",
       "0  Albania         2009  transport  Electricity          0.0\n",
       "1  Albania         2010  transport  Electricity          0.0\n",
       "2  Albania         2011  transport  Electricity          0.0\n",
       "3  Albania         2012  transport  Electricity          0.0\n",
       "4  Albania         2013  transport  Electricity          0.0"
      ]
     },
     "execution_count": 14,
     "metadata": {},
     "output_type": "execute_result"
    }
   ],
   "source": [
    "# put columns in order\n",
    "consump_transport = consump_transport[['country', 'time-period', 'sector','energy-type', 'value(KTOE)']]\n",
    "consump_transport.head()"
   ]
  },
  {
   "cell_type": "code",
   "execution_count": 16,
   "id": "733b6afe",
   "metadata": {},
   "outputs": [
    {
     "data": {
      "text/plain": [
       "(6902, 5)"
      ]
     },
     "execution_count": 16,
     "metadata": {},
     "output_type": "execute_result"
    }
   ],
   "source": [
    "# shape of the dataset\n",
    "consump_transport.shape"
   ]
  },
  {
   "cell_type": "code",
   "execution_count": 17,
   "id": "1215fb28",
   "metadata": {},
   "outputs": [
    {
     "name": "stdout",
     "output_type": "stream",
     "text": [
      "<class 'pandas.core.frame.DataFrame'>\n",
      "RangeIndex: 6902 entries, 0 to 6901\n",
      "Data columns (total 5 columns):\n",
      " #   Column       Non-Null Count  Dtype  \n",
      "---  ------       --------------  -----  \n",
      " 0   country      6902 non-null   object \n",
      " 1   time-period  6902 non-null   int64  \n",
      " 2   sector       6902 non-null   object \n",
      " 3   energy-type  6902 non-null   object \n",
      " 4   value(KTOE)  6902 non-null   float64\n",
      "dtypes: float64(1), int64(1), object(3)\n",
      "memory usage: 269.7+ KB\n"
     ]
    }
   ],
   "source": [
    "# data type of attributes\n",
    "consump_transport.info()"
   ]
  },
  {
   "cell_type": "markdown",
   "id": "eb509138",
   "metadata": {},
   "source": [
    "### There is no null values in dataset"
   ]
  },
  {
   "cell_type": "code",
   "execution_count": 18,
   "id": "8ff3558f",
   "metadata": {},
   "outputs": [
    {
     "name": "stdout",
     "output_type": "stream",
     "text": [
      "country doesn't contain mixed data types\n",
      "time-period doesn't contain mixed data types\n",
      "sector doesn't contain mixed data types\n",
      "energy-type doesn't contain mixed data types\n",
      "value(KTOE) doesn't contain mixed data types\n"
     ]
    }
   ],
   "source": [
    "# check for mixed data type in df_ords\n",
    "for col in consump_transport.columns.tolist():\n",
    "  weird = (consump_transport[[col]].applymap(type) != consump_transport[[col]].iloc[0].apply(type)).any(axis = 1)\n",
    "  if len (consump_transport[weird]) > 0:\n",
    "    print (col + ' contains mixed data types')\n",
    "  else:\n",
    "    print (col + ' doesn\\'t contain mixed data types')"
   ]
  },
  {
   "cell_type": "code",
   "execution_count": 20,
   "id": "7c5ac726",
   "metadata": {},
   "outputs": [
    {
     "data": {
      "text/html": [
       "<div>\n",
       "<style scoped>\n",
       "    .dataframe tbody tr th:only-of-type {\n",
       "        vertical-align: middle;\n",
       "    }\n",
       "\n",
       "    .dataframe tbody tr th {\n",
       "        vertical-align: top;\n",
       "    }\n",
       "\n",
       "    .dataframe thead th {\n",
       "        text-align: right;\n",
       "    }\n",
       "</style>\n",
       "<table border=\"1\" class=\"dataframe\">\n",
       "  <thead>\n",
       "    <tr style=\"text-align: right;\">\n",
       "      <th></th>\n",
       "      <th>time-period</th>\n",
       "      <th>value(KTOE)</th>\n",
       "    </tr>\n",
       "  </thead>\n",
       "  <tbody>\n",
       "    <tr>\n",
       "      <th>count</th>\n",
       "      <td>6902.000000</td>\n",
       "      <td>6902.000000</td>\n",
       "    </tr>\n",
       "    <tr>\n",
       "      <th>mean</th>\n",
       "      <td>2014.567951</td>\n",
       "      <td>2980.768537</td>\n",
       "    </tr>\n",
       "    <tr>\n",
       "      <th>std</th>\n",
       "      <td>3.431099</td>\n",
       "      <td>18452.119705</td>\n",
       "    </tr>\n",
       "    <tr>\n",
       "      <th>min</th>\n",
       "      <td>2009.000000</td>\n",
       "      <td>0.000000</td>\n",
       "    </tr>\n",
       "    <tr>\n",
       "      <th>25%</th>\n",
       "      <td>2012.000000</td>\n",
       "      <td>0.000000</td>\n",
       "    </tr>\n",
       "    <tr>\n",
       "      <th>50%</th>\n",
       "      <td>2015.000000</td>\n",
       "      <td>14.549000</td>\n",
       "    </tr>\n",
       "    <tr>\n",
       "      <th>75%</th>\n",
       "      <td>2018.000000</td>\n",
       "      <td>404.045250</td>\n",
       "    </tr>\n",
       "    <tr>\n",
       "      <th>max</th>\n",
       "      <td>2020.000000</td>\n",
       "      <td>289013.779000</td>\n",
       "    </tr>\n",
       "  </tbody>\n",
       "</table>\n",
       "</div>"
      ],
      "text/plain": [
       "       time-period    value(KTOE)\n",
       "count  6902.000000    6902.000000\n",
       "mean   2014.567951    2980.768537\n",
       "std       3.431099   18452.119705\n",
       "min    2009.000000       0.000000\n",
       "25%    2012.000000       0.000000\n",
       "50%    2015.000000      14.549000\n",
       "75%    2018.000000     404.045250\n",
       "max    2020.000000  289013.779000"
      ]
     },
     "execution_count": 20,
     "metadata": {},
     "output_type": "execute_result"
    }
   ],
   "source": [
    "# descriptive statisctics\n",
    "consump_transport.describe()"
   ]
  },
  {
   "cell_type": "markdown",
   "id": "6fd26ed6",
   "metadata": {},
   "source": [
    "### the data distribution for time period is ok as it is the annual data, but in value(KTOE) there are lots of outliers which seems to be rational as they are the summation values"
   ]
  },
  {
   "cell_type": "code",
   "execution_count": 21,
   "id": "9d75f849",
   "metadata": {},
   "outputs": [
    {
     "data": {
      "text/plain": [
       "<AxesSubplot:ylabel='Frequency'>"
      ]
     },
     "execution_count": 21,
     "metadata": {},
     "output_type": "execute_result"
    },
    {
     "data": {
      "image/png": "[encoded data removed]",
      "text/plain": [
       "<Figure size 432x288 with 1 Axes>"
      ]
     },
     "metadata": {
      "needs_background": "light"
     },
     "output_type": "display_data"
    }
   ],
   "source": [
    "# distribution of value(KTOE)\n",
    "consump_transport['value(KTOE)'].plot.hist(bins=100)"
   ]
  },
  {
   "cell_type": "markdown",
   "id": "ae5bc82b",
   "metadata": {},
   "source": [
    "### Like the other data sets here we have lots of '0' values which seems to be normal as there are lots of unmeasured data or lots of real zero measurements"
   ]
  },
  {
   "cell_type": "code",
   "execution_count": 22,
   "id": "9140e738",
   "metadata": {},
   "outputs": [
    {
     "data": {
      "text/plain": [
       "Albania                                      168\n",
       "Iceland                                      168\n",
       "Lithuania                                    168\n",
       "Luxembourg                                   168\n",
       "Latvia                                       168\n",
       "Montenegro                                   168\n",
       "North Macedonia                              168\n",
       "Malta                                        168\n",
       "Netherlands                                  168\n",
       "Norway                                       168\n",
       "Poland                                       168\n",
       "Portugal                                     168\n",
       "Romania                                      168\n",
       "Serbia                                       168\n",
       "Sweden                                       168\n",
       "Slovenia                                     168\n",
       "Slovakia                                     168\n",
       "Turkey                                       168\n",
       "Ukraine                                      168\n",
       "Austria                                      168\n",
       "Italy                                        168\n",
       "Ireland                                      168\n",
       "Hungary                                      168\n",
       "Belgium                                      168\n",
       "Bulgaria                                     168\n",
       "Cyprus                                       168\n",
       "Czechia                                      168\n",
       "Germany                                      168\n",
       "Denmark                                      168\n",
       "Euro area - 19 countries (from 2015)         168\n",
       "Estonia                                      168\n",
       "Greece                                       168\n",
       "Spain                                        168\n",
       "European Union - 27 countries (from 2020)    168\n",
       "Finland                                      168\n",
       "France                                       168\n",
       "Croatia                                      168\n",
       "Kosovo                                       168\n",
       "Moldova                                      154\n",
       "United Kingdom                               154\n",
       "Georgia                                      112\n",
       "Bosnia and Herzegovina                        98\n",
       "Name: country, dtype: int64"
      ]
     },
     "execution_count": 22,
     "metadata": {},
     "output_type": "execute_result"
    }
   ],
   "source": [
    "# value distribution for 'country'\n",
    "consump_transport['country'].value_counts()"
   ]
  },
  {
   "cell_type": "code",
   "execution_count": 23,
   "id": "ae5573cf",
   "metadata": {},
   "outputs": [
    {
     "data": {
      "text/plain": [
       "Electricity                                           493\n",
       "Natural gas                                           493\n",
       "Liquefied petroleum gases                             493\n",
       "Motor gasoline (excluding biofuel portion)            493\n",
       "Kerosene-type jet fuel (excluding biofuel portion)    493\n",
       "Gas oil and diesel oil (excluding biofuel portion)    493\n",
       "Fuel oil                                              493\n",
       "Blended biogasoline                                   493\n",
       "Pure biogasoline                                      493\n",
       "Blended biodiesels                                    493\n",
       "Pure biodiesels                                       493\n",
       "Other liquid biofuels                                 493\n",
       "Biogases                                              493\n",
       "Total                                                 493\n",
       "Name: energy-type, dtype: int64"
      ]
     },
     "execution_count": 23,
     "metadata": {},
     "output_type": "execute_result"
    }
   ],
   "source": [
    "# data distribution for 'energy-type'\n",
    "consump_transport['energy-type'].value_counts()"
   ]
  },
  {
   "cell_type": "code",
   "execution_count": 24,
   "id": "ba10573a",
   "metadata": {},
   "outputs": [
    {
     "data": {
      "text/plain": [
       "transport    6902\n",
       "Name: sector, dtype: int64"
      ]
     },
     "execution_count": 24,
     "metadata": {},
     "output_type": "execute_result"
    }
   ],
   "source": [
    "# data distribution for sector\n",
    "consump_transport['sector'].value_counts()"
   ]
  },
  {
   "cell_type": "code",
   "execution_count": 25,
   "id": "9cd488af",
   "metadata": {},
   "outputs": [
    {
     "data": {
      "text/plain": [
       "{'Albania',\n",
       " 'Austria',\n",
       " 'Belgium',\n",
       " 'Bosnia and Herzegovina',\n",
       " 'Bulgaria',\n",
       " 'Croatia',\n",
       " 'Cyprus',\n",
       " 'Czechia',\n",
       " 'Denmark',\n",
       " 'Estonia',\n",
       " 'Finland',\n",
       " 'France',\n",
       " 'Georgia',\n",
       " 'Germany',\n",
       " 'Greece',\n",
       " 'Hungary',\n",
       " 'Iceland',\n",
       " 'Ireland',\n",
       " 'Italy',\n",
       " 'Kosovo',\n",
       " 'Latvia',\n",
       " 'Lithuania',\n",
       " 'Luxembourg',\n",
       " 'Malta',\n",
       " 'Moldova',\n",
       " 'Montenegro',\n",
       " 'Netherlands',\n",
       " 'North Macedonia',\n",
       " 'Norway',\n",
       " 'Poland',\n",
       " 'Portugal',\n",
       " 'Romania',\n",
       " 'Serbia',\n",
       " 'Slovakia',\n",
       " 'Slovenia',\n",
       " 'Spain',\n",
       " 'Sweden',\n",
       " 'Turkey',\n",
       " 'Ukraine',\n",
       " 'United Kingdom'}"
      ]
     },
     "execution_count": 25,
     "metadata": {},
     "output_type": "execute_result"
    }
   ],
   "source": [
    "# remove rows related to 'EU27_2020' & 'EA19' & 'EA28' as they are summations for contries in EU and they are not helpful in our analysis\n",
    "consump_transport.drop(consump_transport[consump_transport['country'].isin(['European Union - 27 countries (from 2020)',\n",
    "            'Euro area - 19 countries (from 2015)', 'European Union - 28 countries (2013-2020)'])].index, inplace=True)\n",
    "set(consump_transport['country'])"
   ]
  },
  {
   "cell_type": "code",
   "execution_count": 26,
   "id": "9e07a160",
   "metadata": {},
   "outputs": [
    {
     "data": {
      "text/plain": [
       "country        0\n",
       "time-period    0\n",
       "sector         0\n",
       "energy-type    0\n",
       "value(KTOE)    0\n",
       "dtype: int64"
      ]
     },
     "execution_count": 26,
     "metadata": {},
     "output_type": "execute_result"
    }
   ],
   "source": [
    "# check for null values again\n",
    "consump_transport.isnull().sum()"
   ]
  },
  {
   "cell_type": "code",
   "execution_count": 27,
   "id": "54aab1c4",
   "metadata": {},
   "outputs": [
    {
     "data": {
      "text/html": [
       "<div>\n",
       "<style scoped>\n",
       "    .dataframe tbody tr th:only-of-type {\n",
       "        vertical-align: middle;\n",
       "    }\n",
       "\n",
       "    .dataframe tbody tr th {\n",
       "        vertical-align: top;\n",
       "    }\n",
       "\n",
       "    .dataframe thead th {\n",
       "        text-align: right;\n",
       "    }\n",
       "</style>\n",
       "<table border=\"1\" class=\"dataframe\">\n",
       "  <thead>\n",
       "    <tr style=\"text-align: right;\">\n",
       "      <th></th>\n",
       "      <th>country</th>\n",
       "      <th>time-period</th>\n",
       "      <th>sector</th>\n",
       "      <th>energy-type</th>\n",
       "      <th>value(KTOE)</th>\n",
       "    </tr>\n",
       "  </thead>\n",
       "  <tbody>\n",
       "  </tbody>\n",
       "</table>\n",
       "</div>"
      ],
      "text/plain": [
       "Empty DataFrame\n",
       "Columns: [country, time-period, sector, energy-type, value(KTOE)]\n",
       "Index: []"
      ]
     },
     "execution_count": 27,
     "metadata": {},
     "output_type": "execute_result"
    }
   ],
   "source": [
    "# check for duplicity\n",
    "consump_transport[consump_transport.duplicated()]"
   ]
  },
  {
   "cell_type": "markdown",
   "id": "9f488641",
   "metadata": {},
   "source": [
    "### There is no duplicated row"
   ]
  },
  {
   "cell_type": "code",
   "execution_count": 28,
   "id": "11625cc7",
   "metadata": {},
   "outputs": [
    {
     "data": {
      "text/html": [
       "<div>\n",
       "<style scoped>\n",
       "    .dataframe tbody tr th:only-of-type {\n",
       "        vertical-align: middle;\n",
       "    }\n",
       "\n",
       "    .dataframe tbody tr th {\n",
       "        vertical-align: top;\n",
       "    }\n",
       "\n",
       "    .dataframe thead th {\n",
       "        text-align: right;\n",
       "    }\n",
       "</style>\n",
       "<table border=\"1\" class=\"dataframe\">\n",
       "  <thead>\n",
       "    <tr style=\"text-align: right;\">\n",
       "      <th></th>\n",
       "      <th>country</th>\n",
       "      <th>time-period</th>\n",
       "      <th>sector</th>\n",
       "      <th>energy-type</th>\n",
       "      <th>value(KTOE)</th>\n",
       "    </tr>\n",
       "  </thead>\n",
       "  <tbody>\n",
       "    <tr>\n",
       "      <th>0</th>\n",
       "      <td>Albania</td>\n",
       "      <td>2009</td>\n",
       "      <td>transport</td>\n",
       "      <td>Electricity</td>\n",
       "      <td>0.000</td>\n",
       "    </tr>\n",
       "    <tr>\n",
       "      <th>1</th>\n",
       "      <td>Albania</td>\n",
       "      <td>2010</td>\n",
       "      <td>transport</td>\n",
       "      <td>Electricity</td>\n",
       "      <td>0.000</td>\n",
       "    </tr>\n",
       "    <tr>\n",
       "      <th>2</th>\n",
       "      <td>Albania</td>\n",
       "      <td>2011</td>\n",
       "      <td>transport</td>\n",
       "      <td>Electricity</td>\n",
       "      <td>0.000</td>\n",
       "    </tr>\n",
       "    <tr>\n",
       "      <th>3</th>\n",
       "      <td>Albania</td>\n",
       "      <td>2012</td>\n",
       "      <td>transport</td>\n",
       "      <td>Electricity</td>\n",
       "      <td>0.000</td>\n",
       "    </tr>\n",
       "    <tr>\n",
       "      <th>4</th>\n",
       "      <td>Albania</td>\n",
       "      <td>2013</td>\n",
       "      <td>transport</td>\n",
       "      <td>Electricity</td>\n",
       "      <td>0.000</td>\n",
       "    </tr>\n",
       "    <tr>\n",
       "      <th>...</th>\n",
       "      <td>...</td>\n",
       "      <td>...</td>\n",
       "      <td>...</td>\n",
       "      <td>...</td>\n",
       "      <td>...</td>\n",
       "    </tr>\n",
       "    <tr>\n",
       "      <th>6561</th>\n",
       "      <td>Kosovo</td>\n",
       "      <td>2016</td>\n",
       "      <td>transport</td>\n",
       "      <td>Total</td>\n",
       "      <td>395.981</td>\n",
       "    </tr>\n",
       "    <tr>\n",
       "      <th>6562</th>\n",
       "      <td>Kosovo</td>\n",
       "      <td>2017</td>\n",
       "      <td>transport</td>\n",
       "      <td>Total</td>\n",
       "      <td>410.191</td>\n",
       "    </tr>\n",
       "    <tr>\n",
       "      <th>6563</th>\n",
       "      <td>Kosovo</td>\n",
       "      <td>2018</td>\n",
       "      <td>transport</td>\n",
       "      <td>Total</td>\n",
       "      <td>429.875</td>\n",
       "    </tr>\n",
       "    <tr>\n",
       "      <th>6564</th>\n",
       "      <td>Kosovo</td>\n",
       "      <td>2019</td>\n",
       "      <td>transport</td>\n",
       "      <td>Total</td>\n",
       "      <td>428.184</td>\n",
       "    </tr>\n",
       "    <tr>\n",
       "      <th>6565</th>\n",
       "      <td>Kosovo</td>\n",
       "      <td>2020</td>\n",
       "      <td>transport</td>\n",
       "      <td>Total</td>\n",
       "      <td>421.572</td>\n",
       "    </tr>\n",
       "  </tbody>\n",
       "</table>\n",
       "<p>6566 rows × 5 columns</p>\n",
       "</div>"
      ],
      "text/plain": [
       "      country  time-period     sector  energy-type  value(KTOE)\n",
       "0     Albania         2009  transport  Electricity        0.000\n",
       "1     Albania         2010  transport  Electricity        0.000\n",
       "2     Albania         2011  transport  Electricity        0.000\n",
       "3     Albania         2012  transport  Electricity        0.000\n",
       "4     Albania         2013  transport  Electricity        0.000\n",
       "...       ...          ...        ...          ...          ...\n",
       "6561   Kosovo         2016  transport        Total      395.981\n",
       "6562   Kosovo         2017  transport        Total      410.191\n",
       "6563   Kosovo         2018  transport        Total      429.875\n",
       "6564   Kosovo         2019  transport        Total      428.184\n",
       "6565   Kosovo         2020  transport        Total      421.572\n",
       "\n",
       "[6566 rows x 5 columns]"
      ]
     },
     "execution_count": 28,
     "metadata": {},
     "output_type": "execute_result"
    }
   ],
   "source": [
    "# reset index for new dataset\n",
    "consump_transport.reset_index(drop=True, inplace=True)\n",
    "consump_transport"
   ]
  },
  {
   "cell_type": "markdown",
   "id": "09c4b7c7",
   "metadata": {},
   "source": [
    "## The final form of the 'consum_transport' data frame will be as follow"
   ]
  },
  {
   "cell_type": "code",
   "execution_count": 30,
   "id": "35ec40a2",
   "metadata": {},
   "outputs": [
    {
     "data": {
      "text/html": [
       "<div>\n",
       "<style scoped>\n",
       "    .dataframe tbody tr th:only-of-type {\n",
       "        vertical-align: middle;\n",
       "    }\n",
       "\n",
       "    .dataframe tbody tr th {\n",
       "        vertical-align: top;\n",
       "    }\n",
       "\n",
       "    .dataframe thead th {\n",
       "        text-align: right;\n",
       "    }\n",
       "</style>\n",
       "<table border=\"1\" class=\"dataframe\">\n",
       "  <thead>\n",
       "    <tr style=\"text-align: right;\">\n",
       "      <th></th>\n",
       "      <th>country</th>\n",
       "      <th>time-period</th>\n",
       "      <th>sector</th>\n",
       "      <th>energy-type</th>\n",
       "      <th>value(KTOE)</th>\n",
       "    </tr>\n",
       "  </thead>\n",
       "  <tbody>\n",
       "    <tr>\n",
       "      <th>0</th>\n",
       "      <td>Albania</td>\n",
       "      <td>2009</td>\n",
       "      <td>transport</td>\n",
       "      <td>Electricity</td>\n",
       "      <td>0.0</td>\n",
       "    </tr>\n",
       "    <tr>\n",
       "      <th>1</th>\n",
       "      <td>Albania</td>\n",
       "      <td>2010</td>\n",
       "      <td>transport</td>\n",
       "      <td>Electricity</td>\n",
       "      <td>0.0</td>\n",
       "    </tr>\n",
       "    <tr>\n",
       "      <th>2</th>\n",
       "      <td>Albania</td>\n",
       "      <td>2011</td>\n",
       "      <td>transport</td>\n",
       "      <td>Electricity</td>\n",
       "      <td>0.0</td>\n",
       "    </tr>\n",
       "    <tr>\n",
       "      <th>3</th>\n",
       "      <td>Albania</td>\n",
       "      <td>2012</td>\n",
       "      <td>transport</td>\n",
       "      <td>Electricity</td>\n",
       "      <td>0.0</td>\n",
       "    </tr>\n",
       "    <tr>\n",
       "      <th>4</th>\n",
       "      <td>Albania</td>\n",
       "      <td>2013</td>\n",
       "      <td>transport</td>\n",
       "      <td>Electricity</td>\n",
       "      <td>0.0</td>\n",
       "    </tr>\n",
       "  </tbody>\n",
       "</table>\n",
       "</div>"
      ],
      "text/plain": [
       "   country  time-period     sector  energy-type  value(KTOE)\n",
       "0  Albania         2009  transport  Electricity          0.0\n",
       "1  Albania         2010  transport  Electricity          0.0\n",
       "2  Albania         2011  transport  Electricity          0.0\n",
       "3  Albania         2012  transport  Electricity          0.0\n",
       "4  Albania         2013  transport  Electricity          0.0"
      ]
     },
     "execution_count": 30,
     "metadata": {},
     "output_type": "execute_result"
    }
   ],
   "source": [
    "consump_transport.head()"
   ]
  },
  {
   "cell_type": "code",
   "execution_count": 31,
   "id": "ffec4ac4",
   "metadata": {},
   "outputs": [
    {
     "data": {
      "text/plain": [
       "(6566, 5)"
      ]
     },
     "execution_count": 31,
     "metadata": {},
     "output_type": "execute_result"
    }
   ],
   "source": [
    "consump_transport.shape"
   ]
  },
  {
   "cell_type": "code",
   "execution_count": 32,
   "id": "d1269b51",
   "metadata": {},
   "outputs": [
    {
     "name": "stdout",
     "output_type": "stream",
     "text": [
      "<class 'pandas.core.frame.DataFrame'>\n",
      "RangeIndex: 6566 entries, 0 to 6565\n",
      "Data columns (total 5 columns):\n",
      " #   Column       Non-Null Count  Dtype  \n",
      "---  ------       --------------  -----  \n",
      " 0   country      6566 non-null   object \n",
      " 1   time-period  6566 non-null   int64  \n",
      " 2   sector       6566 non-null   object \n",
      " 3   energy-type  6566 non-null   object \n",
      " 4   value(KTOE)  6566 non-null   float64\n",
      "dtypes: float64(1), int64(1), object(3)\n",
      "memory usage: 256.6+ KB\n"
     ]
    }
   ],
   "source": [
    "consump_transport.info()"
   ]
  },
  {
   "cell_type": "code",
   "execution_count": 33,
   "id": "7382c7ac",
   "metadata": {},
   "outputs": [
    {
     "data": {
      "text/html": [
       "<div>\n",
       "<style scoped>\n",
       "    .dataframe tbody tr th:only-of-type {\n",
       "        vertical-align: middle;\n",
       "    }\n",
       "\n",
       "    .dataframe tbody tr th {\n",
       "        vertical-align: top;\n",
       "    }\n",
       "\n",
       "    .dataframe thead th {\n",
       "        text-align: right;\n",
       "    }\n",
       "</style>\n",
       "<table border=\"1\" class=\"dataframe\">\n",
       "  <thead>\n",
       "    <tr style=\"text-align: right;\">\n",
       "      <th></th>\n",
       "      <th>time-period</th>\n",
       "      <th>value(KTOE)</th>\n",
       "    </tr>\n",
       "  </thead>\n",
       "  <tbody>\n",
       "    <tr>\n",
       "      <th>count</th>\n",
       "      <td>6566.000000</td>\n",
       "      <td>6566.000000</td>\n",
       "    </tr>\n",
       "    <tr>\n",
       "      <th>mean</th>\n",
       "      <td>2014.571429</td>\n",
       "      <td>1305.462558</td>\n",
       "    </tr>\n",
       "    <tr>\n",
       "      <th>std</th>\n",
       "      <td>3.429987</td>\n",
       "      <td>5114.612552</td>\n",
       "    </tr>\n",
       "    <tr>\n",
       "      <th>min</th>\n",
       "      <td>2009.000000</td>\n",
       "      <td>0.000000</td>\n",
       "    </tr>\n",
       "    <tr>\n",
       "      <th>25%</th>\n",
       "      <td>2012.000000</td>\n",
       "      <td>0.000000</td>\n",
       "    </tr>\n",
       "    <tr>\n",
       "      <th>50%</th>\n",
       "      <td>2015.000000</td>\n",
       "      <td>10.282000</td>\n",
       "    </tr>\n",
       "    <tr>\n",
       "      <th>75%</th>\n",
       "      <td>2018.000000</td>\n",
       "      <td>307.238000</td>\n",
       "    </tr>\n",
       "    <tr>\n",
       "      <th>max</th>\n",
       "      <td>2020.000000</td>\n",
       "      <td>57247.225000</td>\n",
       "    </tr>\n",
       "  </tbody>\n",
       "</table>\n",
       "</div>"
      ],
      "text/plain": [
       "       time-period   value(KTOE)\n",
       "count  6566.000000   6566.000000\n",
       "mean   2014.571429   1305.462558\n",
       "std       3.429987   5114.612552\n",
       "min    2009.000000      0.000000\n",
       "25%    2012.000000      0.000000\n",
       "50%    2015.000000     10.282000\n",
       "75%    2018.000000    307.238000\n",
       "max    2020.000000  57247.225000"
      ]
     },
     "execution_count": 33,
     "metadata": {},
     "output_type": "execute_result"
    }
   ],
   "source": [
    "consump_transport.describe()"
   ]
  },
  {
   "cell_type": "code",
   "execution_count": 34,
   "id": "bf5885c3",
   "metadata": {},
   "outputs": [
    {
     "data": {
      "text/plain": [
       "<AxesSubplot:ylabel='Frequency'>"
      ]
     },
     "execution_count": 34,
     "metadata": {},
     "output_type": "execute_result"
    },
    {
     "data": {
      "image/png": "[encoded data removed]",
      "text/plain": [
       "<Figure size 432x288 with 1 Axes>"
      ]
     },
     "metadata": {
      "needs_background": "light"
     },
     "output_type": "display_data"
    }
   ],
   "source": [
    "consump_transport['value(KTOE)'].plot.hist(bins=50)"
   ]
  },
  {
   "cell_type": "code",
   "execution_count": 35,
   "id": "c6dc8853",
   "metadata": {},
   "outputs": [],
   "source": [
    "# Save data set in pickle and csv formats\n",
    "consump_transport.to_csv(os.path.join(path, '2 Data set', 'Modified', 'consump_transport.csv'))\n",
    "consump_transport.to_pickle(os.path.join(path, '2 Data set', 'Modified', 'consump_transport.pkl'))"
   ]
  },
  {
   "cell_type": "code",
   "execution_count": null,
   "id": "c77854b2",
   "metadata": {},
   "outputs": [],
   "source": []
  }
 ],
 "metadata": {
  "kernelspec": {
   "display_name": "Python 3 (ipykernel)",
   "language": "python",
   "name": "python3"
  },
  "language_info": {
   "codemirror_mode": {
    "name": "ipython",
    "version": 3
   },
   "file_extension": ".py",
   "mimetype": "text/x-python",
   "name": "python",
   "nbconvert_exporter": "python",
   "pygments_lexer": "ipython3",
   "version": "3.9.12"
  }
 },
 "nbformat": 4,
 "nbformat_minor": 5
}
